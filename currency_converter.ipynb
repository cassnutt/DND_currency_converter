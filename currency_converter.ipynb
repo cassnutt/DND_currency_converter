{
 "cells": [
  {
   "cell_type": "markdown",
   "metadata": {},
   "source": [
    "# Dungeons and Dragons Currency Converter"
   ]
  },
  {
   "cell_type": "markdown",
   "metadata": {},
   "source": [
    "DND 5th edition\n",
    "\n",
    "https://stackoverflow.com/questions/44213144/coin-change-with-limited-coins-complexity"
   ]
  },
  {
   "cell_type": "code",
   "execution_count": 1,
   "metadata": {
    "ExecuteTime": {
     "end_time": "2021-09-18T16:19:53.438736Z",
     "start_time": "2021-09-18T16:19:52.441173Z"
    }
   },
   "outputs": [],
   "source": [
    "import numpy as np\n",
    "import pprint\n",
    "import pandas as pd\n",
    "import matplotlib.pyplot as plt"
   ]
  },
  {
   "cell_type": "code",
   "execution_count": 2,
   "metadata": {
    "ExecuteTime": {
     "end_time": "2021-09-18T16:19:54.885589Z",
     "start_time": "2021-09-18T16:19:54.882426Z"
    }
   },
   "outputs": [],
   "source": [
    "df = pd.DataFrame()"
   ]
  },
  {
   "cell_type": "code",
   "execution_count": 3,
   "metadata": {
    "ExecuteTime": {
     "end_time": "2021-09-18T16:19:55.276147Z",
     "start_time": "2021-09-18T16:19:55.273499Z"
    }
   },
   "outputs": [
    {
     "name": "stdout",
     "output_type": "stream",
     "text": [
      "is empty\n"
     ]
    }
   ],
   "source": [
    "if df.empty:\n",
    "    print('is empty')"
   ]
  },
  {
   "cell_type": "code",
   "execution_count": 4,
   "metadata": {
    "ExecuteTime": {
     "end_time": "2021-09-18T16:19:56.441874Z",
     "start_time": "2021-09-18T16:19:56.433685Z"
    }
   },
   "outputs": [
    {
     "data": {
      "text/html": [
       "<div>\n",
       "<style scoped>\n",
       "    .dataframe tbody tr th:only-of-type {\n",
       "        vertical-align: middle;\n",
       "    }\n",
       "\n",
       "    .dataframe tbody tr th {\n",
       "        vertical-align: top;\n",
       "    }\n",
       "\n",
       "    .dataframe thead th {\n",
       "        text-align: right;\n",
       "    }\n",
       "</style>\n",
       "<table border=\"1\" class=\"dataframe\">\n",
       "  <thead>\n",
       "    <tr style=\"text-align: right;\">\n",
       "      <th></th>\n",
       "    </tr>\n",
       "  </thead>\n",
       "  <tbody>\n",
       "  </tbody>\n",
       "</table>\n",
       "</div>"
      ],
      "text/plain": [
       "Empty DataFrame\n",
       "Columns: []\n",
       "Index: []"
      ]
     },
     "execution_count": 4,
     "metadata": {},
     "output_type": "execute_result"
    }
   ],
   "source": [
    "df"
   ]
  },
  {
   "cell_type": "code",
   "execution_count": 46,
   "metadata": {
    "ExecuteTime": {
     "end_time": "2021-09-18T16:55:57.160234Z",
     "start_time": "2021-09-18T16:55:57.153719Z"
    }
   },
   "outputs": [],
   "source": [
    "# Final working function\n",
    "copper = 1/100\n",
    "silver = 1/10\n",
    "electrum = 1/2\n",
    "gold = 1\n",
    "platinum = 10\n",
    "\n",
    "def getCoins(coins, amount, coinIndex = 0):\n",
    "    amount = float(amount)\n",
    "    if amount == 0:\n",
    "        return [] # all done! You did it!\n",
    "    if coinIndex >= len(coins):\n",
    "        return None # don't have enough money / coins\n",
    "    \n",
    "    # names of coins to print later\n",
    "    coinNames = ['', 'Gold', 'Copper', 'Silver', 'Electrum', 'Platinum']\n",
    "    \n",
    "    # start calculations\n",
    "    coin = coins[coinIndex] # 1= gold, 2= copper, ...\n",
    "    coinIndex += 1 \n",
    "    # First, take as may as possible from first listed coin (will start at Index 1 (gold))\n",
    "    canTake = int(min(amount / coin['value'], coin['count']))\n",
    "    \n",
    "    #Reduce the number taken from this coin until success\n",
    "    for count in np.arange(canTake, -1.0, -1):  # take away 1 until count reaches 0\n",
    "        \n",
    "        # Recurse to decide how many to take from next coin\n",
    "        change = getCoins(coins, amount - coin['value'] * count, coinIndex)\n",
    "        if change != None: # Success! We are done!\n",
    "            if count: # Register this number for this coin\n",
    "                return change + [{'Coin Name': coinNames[coinIndex], 'Amount': int(count)}]\n",
    "            return change"
   ]
  },
  {
   "cell_type": "code",
   "execution_count": null,
   "metadata": {
    "ExecuteTime": {
     "end_time": "2021-07-09T19:34:13.526408Z",
     "start_time": "2021-07-09T19:34:13.523647Z"
    }
   },
   "outputs": [],
   "source": [
    "# userNumCopper = 0\n",
    "# userNumSilver = 0\n",
    "# userNumElectrum = 0\n",
    "# userNumGold = 0\n",
    "# userNumPlatinum = 0"
   ]
  },
  {
   "cell_type": "code",
   "execution_count": null,
   "metadata": {
    "ExecuteTime": {
     "end_time": "2021-07-09T19:36:25.826283Z",
     "start_time": "2021-07-09T19:36:23.729099Z"
    }
   },
   "outputs": [],
   "source": [
    "# # have user input the amount they have for each coin\n",
    "# userNumCopper = abs( int (input ('Enter number of Copper: '))) \n",
    "# userNumSilver = abs (int (input ('Enter number of Silver: '))) \n",
    "# userNumElectrum = abs (int (input ('Enter number of Electrum: ')))\n",
    "# userNumGold = abs (int (input ('Enter number of Gold: ')))\n",
    "# userNumPlatinum = abs (int (input ('Enter number of Platinum: ')))"
   ]
  },
  {
   "cell_type": "code",
   "execution_count": 47,
   "metadata": {
    "ExecuteTime": {
     "end_time": "2021-09-18T16:56:16.396612Z",
     "start_time": "2021-09-18T16:55:59.751257Z"
    }
   },
   "outputs": [
    {
     "name": "stdout",
     "output_type": "stream",
     "text": [
      "Enter number of Copper: 812\n",
      "Enter number of Silver: 453\n",
      "Enter number of Electrum: 266\n",
      "Enter number of Gold: 111\n",
      "Enter number of Platinum: 6\n"
     ]
    }
   ],
   "source": [
    "# # have user input the amount they have for each coin\n",
    "while True:\n",
    "    try: \n",
    "        userNumCopper = abs( int (input ('Enter number of Copper: ')))\n",
    "        userNumSilver = abs (int (input ('Enter number of Silver: ')))\n",
    "        userNumElectrum = abs (int (input ('Enter number of Electrum: ')))\n",
    "        userNumGold = abs (int (input ('Enter number of Gold: ')))\n",
    "        userNumPlatinum = abs (int (input ('Enter number of Platinum: ')))\n",
    "\n",
    "    except ValueError as e:\n",
    "        e == 0\n",
    "        continue\n",
    "    \n",
    "    break"
   ]
  },
  {
   "cell_type": "code",
   "execution_count": 48,
   "metadata": {
    "ExecuteTime": {
     "end_time": "2021-09-18T16:56:19.018449Z",
     "start_time": "2021-09-18T16:56:19.014421Z"
    }
   },
   "outputs": [
    {
     "name": "stdout",
     "output_type": "stream",
     "text": [
      "You have 357 gold pieces.\n"
     ]
    }
   ],
   "source": [
    "# tell user how much they have in gold pieces\n",
    "totalGold = (userNumCopper * copper) + (userNumSilver * silver) + (userNumElectrum * electrum) + \\\n",
    "    (userNumGold) + (userNumPlatinum * platinum)\n",
    "totalGold = round(totalGold)\n",
    "\n",
    "print(f'You have {totalGold:,d} gold pieces.')"
   ]
  },
  {
   "cell_type": "code",
   "execution_count": 49,
   "metadata": {
    "ExecuteTime": {
     "end_time": "2021-09-18T16:56:31.490145Z",
     "start_time": "2021-09-18T16:56:21.805044Z"
    }
   },
   "outputs": [
    {
     "name": "stdout",
     "output_type": "stream",
     "text": [
      "How much gold do you want to spend? 318\n"
     ]
    }
   ],
   "source": [
    "userSpendGold = int(input ('How much gold do you want to spend? '))"
   ]
  },
  {
   "cell_type": "code",
   "execution_count": 50,
   "metadata": {
    "ExecuteTime": {
     "end_time": "2021-09-18T16:56:50.879935Z",
     "start_time": "2021-09-18T16:56:49.773194Z"
    },
    "scrolled": true
   },
   "outputs": [
    {
     "name": "stdout",
     "output_type": "stream",
     "text": [
      "[{'Amount': 3, 'Coin Name': 'Platinum'},\n",
      " {'Amount': 248, 'Coin Name': 'Electrum'},\n",
      " {'Amount': 449, 'Coin Name': 'Silver'},\n",
      " {'Amount': 810, 'Coin Name': 'Copper'},\n",
      " {'Amount': 111, 'Coin Name': 'Gold'}]\n"
     ]
    }
   ],
   "source": [
    "if userSpendGold > totalGold:\n",
    "    print('You do not have enough money. Sorry!')\n",
    "    print(f'Total Gold: {totalGold} \\t Gold you need: {userSpendGold}')\n",
    "    \n",
    "else:\n",
    "    coins = [\n",
    "    { \"value\": gold, \"count\":  userNumGold },\n",
    "    { \"value\":  copper, \"count\": userNumCopper },\n",
    "    { \"value\":  silver, \"count\":  userNumSilver },\n",
    "    { \"value\":  electrum, \"count\":  userNumElectrum },\n",
    "    { \"value\": platinum, \"count\":  userNumPlatinum },   \n",
    "    ]\n",
    "\n",
    "    \n",
    "    result = getCoins(coins, userSpendGold)\n",
    "    pprint.pprint(result)\n"
   ]
  },
  {
   "cell_type": "code",
   "execution_count": 10,
   "metadata": {
    "ExecuteTime": {
     "end_time": "2021-09-18T16:25:17.750610Z",
     "start_time": "2021-09-18T16:25:17.747526Z"
    }
   },
   "outputs": [],
   "source": [
    "df = pd.DataFrame(result)"
   ]
  },
  {
   "cell_type": "code",
   "execution_count": 11,
   "metadata": {
    "ExecuteTime": {
     "end_time": "2021-09-18T16:25:18.187316Z",
     "start_time": "2021-09-18T16:25:18.119317Z"
    }
   },
   "outputs": [
    {
     "data": {
      "text/html": [
       "<style type=\"text/css\">\n",
       "</style>\n",
       "<table id=\"T_1efda_\">\n",
       "  <thead>\n",
       "    <tr>\n",
       "      <th class=\"col_heading level0 col0\" >Coin Name</th>\n",
       "      <th class=\"col_heading level0 col1\" >Amount</th>\n",
       "    </tr>\n",
       "  </thead>\n",
       "  <tbody>\n",
       "    <tr>\n",
       "      <td id=\"T_1efda_row0_col0\" class=\"data row0 col0\" >Silver</td>\n",
       "      <td id=\"T_1efda_row0_col1\" class=\"data row0 col1\" >370</td>\n",
       "    </tr>\n",
       "    <tr>\n",
       "      <td id=\"T_1efda_row1_col0\" class=\"data row1 col0\" >Electrum</td>\n",
       "      <td id=\"T_1efda_row1_col1\" class=\"data row1 col1\" >654</td>\n",
       "    </tr>\n",
       "    <tr>\n",
       "      <td id=\"T_1efda_row2_col0\" class=\"data row2 col0\" >Platinum</td>\n",
       "      <td id=\"T_1efda_row2_col1\" class=\"data row2 col1\" >7</td>\n",
       "    </tr>\n",
       "    <tr>\n",
       "      <td id=\"T_1efda_row3_col0\" class=\"data row3 col0\" >Gold</td>\n",
       "      <td id=\"T_1efda_row3_col1\" class=\"data row3 col1\" >78</td>\n",
       "    </tr>\n",
       "  </tbody>\n",
       "</table>\n"
      ],
      "text/plain": [
       "<pandas.io.formats.style.Styler at 0x7ff58e5741c0>"
      ]
     },
     "execution_count": 11,
     "metadata": {},
     "output_type": "execute_result"
    }
   ],
   "source": [
    "df.style.hide_index()"
   ]
  },
  {
   "cell_type": "code",
   "execution_count": 12,
   "metadata": {
    "ExecuteTime": {
     "end_time": "2021-09-18T16:25:27.421995Z",
     "start_time": "2021-09-18T16:25:27.415484Z"
    },
    "scrolled": false
   },
   "outputs": [
    {
     "data": {
      "text/html": [
       "<div>\n",
       "<style scoped>\n",
       "    .dataframe tbody tr th:only-of-type {\n",
       "        vertical-align: middle;\n",
       "    }\n",
       "\n",
       "    .dataframe tbody tr th {\n",
       "        vertical-align: top;\n",
       "    }\n",
       "\n",
       "    .dataframe thead th {\n",
       "        text-align: right;\n",
       "    }\n",
       "</style>\n",
       "<table border=\"1\" class=\"dataframe\">\n",
       "  <thead>\n",
       "    <tr style=\"text-align: right;\">\n",
       "      <th></th>\n",
       "      <th>Coin Name</th>\n",
       "      <th>Amount</th>\n",
       "    </tr>\n",
       "  </thead>\n",
       "  <tbody>\n",
       "    <tr>\n",
       "      <th>0</th>\n",
       "      <td>Silver</td>\n",
       "      <td>370</td>\n",
       "    </tr>\n",
       "    <tr>\n",
       "      <th>1</th>\n",
       "      <td>Electrum</td>\n",
       "      <td>654</td>\n",
       "    </tr>\n",
       "    <tr>\n",
       "      <th>2</th>\n",
       "      <td>Platinum</td>\n",
       "      <td>7</td>\n",
       "    </tr>\n",
       "    <tr>\n",
       "      <th>3</th>\n",
       "      <td>Gold</td>\n",
       "      <td>78</td>\n",
       "    </tr>\n",
       "  </tbody>\n",
       "</table>\n",
       "</div>"
      ],
      "text/plain": [
       "  Coin Name  Amount\n",
       "0    Silver     370\n",
       "1  Electrum     654\n",
       "2  Platinum       7\n",
       "3      Gold      78"
      ]
     },
     "execution_count": 12,
     "metadata": {},
     "output_type": "execute_result"
    }
   ],
   "source": [
    "df"
   ]
  },
  {
   "cell_type": "code",
   "execution_count": 47,
   "metadata": {
    "ExecuteTime": {
     "end_time": "2021-07-09T21:09:32.156337Z",
     "start_time": "2021-07-09T21:09:32.149691Z"
    },
    "scrolled": true
   },
   "outputs": [
    {
     "data": {
      "text/html": [
       "<div>\n",
       "<style scoped>\n",
       "    .dataframe tbody tr th:only-of-type {\n",
       "        vertical-align: middle;\n",
       "    }\n",
       "\n",
       "    .dataframe tbody tr th {\n",
       "        vertical-align: top;\n",
       "    }\n",
       "\n",
       "    .dataframe thead th {\n",
       "        text-align: right;\n",
       "    }\n",
       "</style>\n",
       "<table border=\"1\" class=\"dataframe\">\n",
       "  <thead>\n",
       "    <tr style=\"text-align: right;\">\n",
       "      <th></th>\n",
       "      <th>Amount</th>\n",
       "    </tr>\n",
       "    <tr>\n",
       "      <th>Coin Name</th>\n",
       "      <th></th>\n",
       "    </tr>\n",
       "  </thead>\n",
       "  <tbody>\n",
       "    <tr>\n",
       "      <th>Electrum</th>\n",
       "      <td>8</td>\n",
       "    </tr>\n",
       "    <tr>\n",
       "      <th>Gold</th>\n",
       "      <td>541</td>\n",
       "    </tr>\n",
       "  </tbody>\n",
       "</table>\n",
       "</div>"
      ],
      "text/plain": [
       "           Amount\n",
       "Coin Name        \n",
       "Electrum        8\n",
       "Gold          541"
      ]
     },
     "execution_count": 47,
     "metadata": {},
     "output_type": "execute_result"
    }
   ],
   "source": [
    "# df.set_index('Coin Name')"
   ]
  },
  {
   "cell_type": "code",
   "execution_count": null,
   "metadata": {},
   "outputs": [],
   "source": [
    "# # plot on matplotlib\n",
    "def plot_results(data, x, y):\n",
    "    # set variables\n",
    "    x = data[x]\n",
    "    y = data[y]\n",
    "    colors = ['#CDC8C1', '#F0BE60', '#AB7E43','#D68505', '#7D7C64'] # set colors\n",
    "    fig, ax = plt.subplots(figsize=(10, 6))\n",
    "    \n",
    "    # input variables into horizontal bar chart\n",
    "    ax.barh(y,x, color = colors)\n",
    "    ax.set_xlabel('Number of Coins')\n",
    "    ax.set_ylabel('Coin Type')\n",
    "    ax.set_title(f'Coins You Need for {userSpendGold} Gold', fontsize= 15);\n",
    "    \n",
    "#     #plot on streamlit\n",
    "#     st.pyplot(fig)\n",
    "# plot_results(df, 'Amount', 'Coin Name')"
   ]
  },
  {
   "cell_type": "code",
   "execution_count": 50,
   "metadata": {
    "ExecuteTime": {
     "end_time": "2021-07-13T20:22:47.139690Z",
     "start_time": "2021-07-13T20:22:47.034225Z"
    }
   },
   "outputs": [
    {
     "data": {
      "image/png": "[encoded data removed]",
      "text/plain": [
       "<Figure size 720x432 with 1 Axes>"
      ]
     },
     "metadata": {
      "needs_background": "light"
     },
     "output_type": "display_data"
    }
   ],
   "source": [
    "plot_results(df, 'Amount', 'Coin Name')"
   ]
  },
  {
   "cell_type": "code",
   "execution_count": 42,
   "metadata": {
    "ExecuteTime": {
     "end_time": "2021-07-13T19:54:59.125732Z",
     "start_time": "2021-07-13T19:54:58.998898Z"
    }
   },
   "outputs": [
    {
     "data": {
      "image/png": "[encoded data removed]",
      "text/plain": [
       "<Figure size 720x432 with 1 Axes>"
      ]
     },
     "metadata": {
      "needs_background": "light"
     },
     "output_type": "display_data"
    }
   ],
   "source": [
    "# x = df.Amount\n",
    "# y = df['Coin Name']\n",
    "# fig, ax = plt.subplots(figsize=(10, 6))\n",
    "\n",
    "# colors = ['#CDC8C1', '#F0BE60', '#AB7E43','#D68505', '#7D7C64']\n",
    "# ax.barh(y,x, color = colors)\n",
    "# ax.set_xlabel('Number of Coins')\n",
    "# ax.set_ylabel('Coin Type')\n",
    "# ax.set_title(f'Coins You Need for {userSpendGold} Gold', fontsize= 15);"
   ]
  },
  {
   "cell_type": "code",
   "execution_count": null,
   "metadata": {},
   "outputs": [],
   "source": []
  },
  {
   "cell_type": "code",
   "execution_count": null,
   "metadata": {},
   "outputs": [],
   "source": []
  },
  {
   "cell_type": "code",
   "execution_count": null,
   "metadata": {},
   "outputs": [],
   "source": []
  },
  {
   "cell_type": "markdown",
   "metadata": {},
   "source": [
    "And that's it! We did it! Now, to get this into a website so others can use it!"
   ]
  },
  {
   "cell_type": "code",
   "execution_count": null,
   "metadata": {},
   "outputs": [],
   "source": []
  },
  {
   "cell_type": "code",
   "execution_count": null,
   "metadata": {},
   "outputs": [],
   "source": []
  },
  {
   "cell_type": "markdown",
   "metadata": {},
   "source": [
    "# What it took to get the final product!\n",
    "\n",
    "Below are the trial and error functions I went through to reach the final working function with the desired output"
   ]
  },
  {
   "cell_type": "code",
   "execution_count": null,
   "metadata": {},
   "outputs": [],
   "source": [
    "coins_given(5876)"
   ]
  },
  {
   "cell_type": "code",
   "execution_count": null,
   "metadata": {},
   "outputs": [],
   "source": [
    "def coins_given(amount):\n",
    "    coins = [(25, 'quarter'), (10, 'dime'), (5, 'nickel'), (1, 'penny')]\n",
    "    answer = {}\n",
    "    for coin_value, coin_name in coins:\n",
    "        if amount >= coin_value:\n",
    "            number_coin, amount = divmod(amount, coin_value)\n",
    "            answer[coin_name] = number_coin\n",
    "    return answer"
   ]
  },
  {
   "cell_type": "code",
   "execution_count": null,
   "metadata": {},
   "outputs": [],
   "source": [
    "def coins_given(amount):\n",
    "    coins = [(10, 'platinum'), (1, 'gold'), (.5, 'electrum'), (.1, 'silver'), (.01, 'copper')]\n",
    "    answer = {}\n",
    "    for coin_value, coin_name in coins:\n",
    "        if amount >= coin_value:\n",
    "            number_coin, amount = divmod(amount, coin_value)\n",
    "            answer[coin_name] = number_coin\n",
    "    return answer"
   ]
  },
  {
   "cell_type": "code",
   "execution_count": null,
   "metadata": {},
   "outputs": [],
   "source": [
    "coins_given(4566)"
   ]
  },
  {
   "cell_type": "markdown",
   "metadata": {},
   "source": [
    "# Get Coin Info from User"
   ]
  },
  {
   "cell_type": "code",
   "execution_count": null,
   "metadata": {},
   "outputs": [],
   "source": [
    "# used for demo 34 copper, 54, 5, 677, 4 plat\n",
    "userNumCopper = int (input ('Enter number of Copper: '))\n",
    "userNumSilver = int (input ('Enter number of Silver: '))\n",
    "userNumElectrum = int (input ('Enter number of Electrum: '))\n",
    "userNumGold = int (input ('Enter number of Gold: '))\n",
    "userNumPlatinum = int (input ('Enter number of Platinum: '))"
   ]
  },
  {
   "cell_type": "code",
   "execution_count": null,
   "metadata": {},
   "outputs": [],
   "source": [
    "userNumCopper"
   ]
  },
  {
   "cell_type": "code",
   "execution_count": null,
   "metadata": {},
   "outputs": [],
   "source": [
    "11 * silver"
   ]
  },
  {
   "cell_type": "code",
   "execution_count": null,
   "metadata": {},
   "outputs": [],
   "source": [
    "# tell user how much they have in gold pieces\n",
    "totalGold = (userNumCopper * copper) + (userNumSilver * silver) + (userNumElectrum * electrum) + \\\n",
    "    (userNumGold) + (userNumPlatinum * platinum)\n",
    "totalGold = round(totalGold)\n",
    "\n",
    "print(f'You have {totalGold} gold pieces.')"
   ]
  },
  {
   "cell_type": "code",
   "execution_count": null,
   "metadata": {
    "scrolled": true
   },
   "outputs": [],
   "source": [
    "userSpendGold = int(input ('How much gold do you want to spend? '))"
   ]
  },
  {
   "cell_type": "code",
   "execution_count": null,
   "metadata": {},
   "outputs": [],
   "source": [
    "userSpendGold"
   ]
  },
  {
   "cell_type": "code",
   "execution_count": null,
   "metadata": {},
   "outputs": [],
   "source": [
    "if userSpendGold > totalGold:\n",
    "    print('You do not have enough money. Sorry!')\n",
    "    print(f'Total Gold: {totalGold} \\t Gold you need: {userSpendGold}')"
   ]
  },
  {
   "cell_type": "code",
   "execution_count": 28,
   "metadata": {
    "ExecuteTime": {
     "end_time": "2021-09-18T16:43:30.077906Z",
     "start_time": "2021-09-18T16:43:30.073935Z"
    }
   },
   "outputs": [],
   "source": [
    "# function to get coins from\n",
    "def change(n, coins_available, coins_used):\n",
    "    if sum(coins_used) == n:\n",
    "        yield coins_used\n",
    "    elif sum(coins_used) > n:\n",
    "        pass\n",
    "    elif coins_available == []:\n",
    "        pass\n",
    "    else:\n",
    "        # have multiple occurances of the same coin within the same list\n",
    "        # if you are not removing the available ones, you will always end up with what you have\n",
    "        # n= 5 -> 1,1,1,1,1 or 5\n",
    "        for c in change(n, coins_available[:], coins_used + [coins_available[0]]):\n",
    "            yield c\n",
    "        # stop picking 1's and move on to 5's\n",
    "        for c in change(n, coins_available[1:], coins_used):\n",
    "            yield c"
   ]
  },
  {
   "cell_type": "code",
   "execution_count": 31,
   "metadata": {
    "ExecuteTime": {
     "end_time": "2021-09-18T16:44:28.955566Z",
     "start_time": "2021-09-18T16:44:25.436176Z"
    }
   },
   "outputs": [
    {
     "name": "stdout",
     "output_type": "stream",
     "text": [
      "Best Solution:  [1, 1, 1, 10, 10, 10, 10, 50, 100, 100, 100, 100, 100, 100]\n"
     ]
    }
   ],
   "source": [
    "coins = [1, 10, 50, 100, 1000]\n",
    "n = 693\n",
    "solutions = [i for i in change(n, coins, [])]\n",
    "\n",
    "print ('Best Solution: ', min(solutions, key= len))"
   ]
  },
  {
   "cell_type": "markdown",
   "metadata": {},
   "source": [
    "# Get it to use user input"
   ]
  },
  {
   "cell_type": "code",
   "execution_count": null,
   "metadata": {},
   "outputs": [],
   "source": [
    "userSpendGold = 702"
   ]
  },
  {
   "cell_type": "code",
   "execution_count": null,
   "metadata": {},
   "outputs": [],
   "source": [
    "# subtract gold from userspendgold\n",
    "newGoldValue = userSpendGold - userNumGold"
   ]
  },
  {
   "cell_type": "code",
   "execution_count": null,
   "metadata": {},
   "outputs": [],
   "source": [
    "newGoldValue\n",
    "#25"
   ]
  },
  {
   "cell_type": "code",
   "execution_count": null,
   "metadata": {},
   "outputs": [],
   "source": [
    "# next subtract next largest value - platinum\n",
    "newGoldValue = newGoldValue - (userNumPlatinum * platinum)"
   ]
  },
  {
   "cell_type": "code",
   "execution_count": null,
   "metadata": {},
   "outputs": [],
   "source": [
    "newGoldValue\n",
    "#-15"
   ]
  },
  {
   "cell_type": "code",
   "execution_count": null,
   "metadata": {},
   "outputs": [],
   "source": [
    "# next subtract next largest value - electrum\n",
    "newGoldValue = newGoldValue - (userNumElectrum * electrum)"
   ]
  },
  {
   "cell_type": "code",
   "execution_count": null,
   "metadata": {},
   "outputs": [],
   "source": [
    "newGoldValue"
   ]
  },
  {
   "cell_type": "code",
   "execution_count": null,
   "metadata": {},
   "outputs": [],
   "source": [
    "def getChange(coins, amount, coinIndex = 0):\n",
    "    if amount == 0:\n",
    "        return [] # success\n",
    "    if coinIndex >= len(coins):\n",
    "        return None # failure\n",
    "    coin = coins[coinIndex]\n",
    "    coinIndex += 1\n",
    "    # Start by taking as many as possible from this coin\n",
    "    canTake = min(amount // coin[\"value\"], coin[\"count\"])\n",
    "    # Reduce the number taken from this coin until success\n",
    "    for count in range(canTake, -1, -1): # count will go down to zero\n",
    "        # Recurse to decide how many to take from the next coins\n",
    "        change = getChange(coins, amount - coin[\"value\"] * count, coinIndex)\n",
    "        if change != None: # We had success\n",
    "            if count: # Register this number for this coin:\n",
    "                return change + [{ \"value\": coin[\"value\"], \"count\": count }]\n",
    "            return change\n",
    "\n",
    "\n",
    "# Example data and call:\n",
    "coins = [\n",
    "    { \"value\": 20, \"count\":  2 },   \n",
    "    { \"value\": 10, \"count\":  2 },\n",
    "    { \"value\":  5, \"count\":  3 },\n",
    "    { \"value\":  2, \"count\":  2 },\n",
    "    { \"value\":  1, \"count\": 10 }\n",
    "]\n",
    "\n",
    "result = getChange(coins, 84)\n",
    "print(result)"
   ]
  },
  {
   "cell_type": "code",
   "execution_count": null,
   "metadata": {},
   "outputs": [],
   "source": [
    "# use DND currency terms\n",
    "def getChange(coins, amount, coinIndex = 0):\n",
    "    amount = float(amount)\n",
    "    if amount == 0:\n",
    "        return [] # success\n",
    "    if coinIndex >= len(coins):\n",
    "        return None # failure\n",
    "    coin = coins[coinIndex]\n",
    "    coinIndex += 1\n",
    "    # Start by taking as many as possible from this coin\n",
    "    canTake = min(amount // coin[\"value\"], coin[\"count\"])\n",
    "    # Reduce the number taken from this coin until success\n",
    "    for count in np.arange(canTake, -1.0, -1): # count will go down to zero\n",
    "        # Recurse to decide how many to take from the next coins\n",
    "        change = getChange(coins, amount - coin[\"value\"] * count, coinIndex)\n",
    "        if change != None: # We had success\n",
    "            if count: # Register this number for this coin:\n",
    "                return change + [{ \"value\": coin[\"value\"], \"count\": count }]\n",
    "            return change\n",
    "\n",
    "\n",
    "# Example data and call:\n",
    "coins = [\n",
    "    { \"value\": gold, \"count\":  676 },   \n",
    "    { \"value\": platinum, \"count\":  4 },   \n",
    "    { \"value\":  electrum, \"count\":  5 },\n",
    "    { \"value\":  silver, \"count\":  0 },\n",
    "    { \"value\":  copper, \"count\": 1000 } \n",
    "]\n",
    "\n",
    "result = getChange(coins, 719)\n",
    "print(result)"
   ]
  },
  {
   "cell_type": "code",
   "execution_count": null,
   "metadata": {},
   "outputs": [],
   "source": [
    "# use DND currency terms\n",
    "def getChange(coins, amount, coinIndex = 0):\n",
    "    amount = float(amount)\n",
    "    if amount == 0:\n",
    "        return [] # success\n",
    "    if coinIndex >= len(coins):\n",
    "        return None # failure\n",
    "    coin = coins[coinIndex]\n",
    "    coinIndex += 1\n",
    "    # Start by taking as many as possible from this coin\n",
    "    canTake = min(amount / coin[\"value\"], coin[\"count\"])\n",
    "    # Reduce the number taken from this coin until success\n",
    "    for count in np.arange(canTake, -1.0, -1): # count will go down to zero\n",
    "        # Recurse to decide how many to take from the next coins\n",
    "        change = getChange(coins, amount - coin[\"value\"] * count, coinIndex)\n",
    "        if change != None: # We had success\n",
    "            if count: # Register this number for this coin:\n",
    "                return change + [{ \"value\": coin[\"value\"], \"count\": count }]\n",
    "            return change\n",
    "\n",
    "\n",
    "# Example data and call:\n",
    "coins = [\n",
    "    { \"value\": gold, \"count\":  676 },   \n",
    "    { \"value\": platinum, \"count\":  14 },   \n",
    "    { \"value\":  electrum, \"count\":  500 },\n",
    "    { \"value\":  silver, \"count\":  10 },\n",
    "    { \"value\":  copper, \"count\": 1000 } \n",
    "]\n",
    "\n",
    "result = getChange(coins, 842)\n",
    "print(result)"
   ]
  },
  {
   "cell_type": "code",
   "execution_count": null,
   "metadata": {},
   "outputs": [],
   "source": [
    "# use DND currency terms\n",
    "def getChange(coins, amount, coinIndex = 0):\n",
    "    amount = float(amount)\n",
    "    if amount == 0:\n",
    "        return [] # success\n",
    "    if coinIndex >= len(coins):\n",
    "        return None # failure\n",
    "    coin = coins[coinIndex]\n",
    "    coinIndex += 1\n",
    "    print(coinIndex)\n",
    "    # Start by taking as many as possible from this coin\n",
    "    canTake = int(min(amount / coin[\"value\"], coin[\"count\"]))\n",
    "    print (canTake)\n",
    "    # Reduce the number taken from this coin until success\n",
    "    for count in np.arange(canTake, -1.0, -1): # count will go down to zero\n",
    "        # Recurse to decide how many to take from the next coins\n",
    "        change = getChange(coins, amount - coin[\"value\"] * count, coinIndex)\n",
    "        if change != None: # We had success\n",
    "            if count: # Register this number for this coin:\n",
    "                return change + [{ \"value\": coin[\"value\"], \"count\": count }]\n",
    "            return change\n",
    "\n",
    "\n",
    "# Example data and call:\n",
    "coins = [\n",
    "    { \"value\": gold, \"count\":  676 },   \n",
    "    { \"value\": platinum, \"count\":  17 },   \n",
    "    { \"value\":  electrum, \"count\":  10 },\n",
    "    { \"value\":  silver, \"count\":  1 },\n",
    "    { \"value\":  copper, \"count\": 1000 } \n",
    "]\n",
    "\n",
    "result = getChange(coins, 854)\n",
    "print(result)"
   ]
  },
  {
   "cell_type": "code",
   "execution_count": null,
   "metadata": {},
   "outputs": [],
   "source": [
    "# Final working function\n",
    "def getCoins(coins, amount, coinIndex = 0):\n",
    "    amount = float(amount)\n",
    "    if amount == 0:\n",
    "        return [] # all done! You did it!\n",
    "    if coinIndex >= len(coins):\n",
    "        return None # don't have enough money / coins\n",
    "    \n",
    "    # start calculations\n",
    "    coinNames = ['', 'Gold', 'Platinum', 'Electrum', 'Silver', 'Copper']\n",
    "    coin = coins[coinIndex] # 1= gold, 2= platinum, ...\n",
    "    coinIndex += 1 \n",
    "    # First, take as may as possible from first listed coin (will start at Index 1 (gold))\n",
    "    canTake = int(min(amount / coin['value'], coin['count']))\n",
    "    \n",
    "    #Reduce the number taken from this coin until success\n",
    "    for count in np.arange(canTake, -1.0, -1):  # take away 1 until count reaches 0\n",
    "        \n",
    "        # Recurse to decide how many to take from next coin\n",
    "        change = getCoins(coins, amount - coin['value'] * count, coinIndex)\n",
    "        if change != None: # Success! We are done!\n",
    "            if count: # Register this number for this coin\n",
    "                print(f'Gold Needed: {amount}')\n",
    "                return change + [{'Coin Name': coinNames[coinIndex], 'Amount': int(count)}]\n",
    "            return change"
   ]
  },
  {
   "cell_type": "code",
   "execution_count": null,
   "metadata": {},
   "outputs": [],
   "source": [
    "coins = [\n",
    "    { \"value\": gold, \"count\":  676 },   \n",
    "    { \"value\": platinum, \"count\":  17 },   \n",
    "    { \"value\":  electrum, \"count\":  10 },\n",
    "    { \"value\":  silver, \"count\":  1 },\n",
    "    { \"value\":  copper, \"count\": 1000 } \n",
    "]\n",
    "\n",
    "result = getCoins(coins, userSpendGold)\n",
    "print(result)"
   ]
  },
  {
   "cell_type": "code",
   "execution_count": null,
   "metadata": {},
   "outputs": [],
   "source": []
  },
  {
   "cell_type": "code",
   "execution_count": null,
   "metadata": {},
   "outputs": [],
   "source": []
  }
 ],
 "metadata": {
  "kernelspec": {
   "display_name": "Python 3 (ipykernel)",
   "language": "python",
   "name": "python3"
  },
  "language_info": {
   "codemirror_mode": {
    "name": "ipython",
    "version": 3
   },
   "file_extension": ".py",
   "mimetype": "text/x-python",
   "name": "python",
   "nbconvert_exporter": "python",
   "pygments_lexer": "ipython3",
   "version": "3.8.3"
  },
  "toc": {
   "base_numbering": 1,
   "nav_menu": {},
   "number_sections": true,
   "sideBar": true,
   "skip_h1_title": true,
   "title_cell": "Table of Contents",
   "title_sidebar": "Contents",
   "toc_cell": false,
   "toc_position": {},
   "toc_section_display": true,
   "toc_window_display": false
  },
  "varInspector": {
   "cols": {
    "lenName": 16,
    "lenType": 16,
    "lenVar": 40
   },
   "kernels_config": {
    "python": {
     "delete_cmd_postfix": "",
     "delete_cmd_prefix": "del ",
     "library": "var_list.py",
     "varRefreshCmd": "print(var_dic_list())"
    },
    "r": {
     "delete_cmd_postfix": ") ",
     "delete_cmd_prefix": "rm(",
     "library": "var_list.r",
     "varRefreshCmd": "cat(var_dic_list()) "
    }
   },
   "types_to_exclude": [
    "module",
    "function",
    "builtin_function_or_method",
    "instance",
    "_Feature"
   ],
   "window_display": false
  }
 },
 "nbformat": 4,
 "nbformat_minor": 4
}
