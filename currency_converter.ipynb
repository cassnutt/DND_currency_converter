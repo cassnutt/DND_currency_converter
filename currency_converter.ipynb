{
 "cells": [
  {
   "cell_type": "markdown",
   "metadata": {},
   "source": [
    "# Dungeons and Dragons Currency Converter"
   ]
  },
  {
   "cell_type": "markdown",
   "metadata": {},
   "source": [
    "DND 5th edition"
   ]
  },
  {
   "cell_type": "code",
   "execution_count": 10,
   "metadata": {},
   "outputs": [],
   "source": [
    "copper = 1/100\n",
    "silver = 1/10\n",
    "electrum = 1/2\n",
    "gold = 1\n",
    "platinum = 10"
   ]
  },
  {
   "cell_type": "code",
   "execution_count": 2,
   "metadata": {},
   "outputs": [
    {
     "name": "stdout",
     "output_type": "stream",
     "text": [
      "20\n"
     ]
    }
   ],
   "source": [
    "cp = 500\n",
    "sp = 20\n",
    "ep = 12\n",
    "gp = 23\n",
    "pp = 2\n",
    "\n",
    "print(platinum * pp)"
   ]
  },
  {
   "cell_type": "code",
   "execution_count": 2,
   "metadata": {},
   "outputs": [],
   "source": [
    "def coins_given(amount):\n",
    "    coins = [(25, 'quarter'), (10, 'dime'), (5, 'nickel'), (1, 'penny')]\n",
    "    answer = {}\n",
    "    for coin_value, coin_name in coins:\n",
    "        if amount >= coin_value:\n",
    "            number_coin, amount = divmod(amount, coin_value)\n",
    "            answer[coin_name] = number_coin\n",
    "    return answer"
   ]
  },
  {
   "cell_type": "code",
   "execution_count": 5,
   "metadata": {},
   "outputs": [
    {
     "data": {
      "text/plain": [
       "{'quarter': 235, 'penny': 1}"
      ]
     },
     "execution_count": 5,
     "metadata": {},
     "output_type": "execute_result"
    }
   ],
   "source": [
    "coins_given(5876)"
   ]
  },
  {
   "cell_type": "code",
   "execution_count": 6,
   "metadata": {},
   "outputs": [],
   "source": [
    "def coins_given(amount):\n",
    "    coins = [(10, 'platinum'), (1, 'gold'), (.5, 'electrum'), (.1, 'silver'), (.01, 'copper')]\n",
    "    answer = {}\n",
    "    for coin_value, coin_name in coins:\n",
    "        if amount >= coin_value:\n",
    "            number_coin, amount = divmod(amount, coin_value)\n",
    "            answer[coin_name] = number_coin\n",
    "    return answer"
   ]
  },
  {
   "cell_type": "code",
   "execution_count": 7,
   "metadata": {},
   "outputs": [
    {
     "data": {
      "text/plain": [
       "{'platinum': 456, 'gold': 6}"
      ]
     },
     "execution_count": 7,
     "metadata": {},
     "output_type": "execute_result"
    }
   ],
   "source": [
    "coins_given(4566)"
   ]
  },
  {
   "cell_type": "code",
   "execution_count": null,
   "metadata": {},
   "outputs": [],
   "source": []
  },
  {
   "cell_type": "code",
   "execution_count": 8,
   "metadata": {},
   "outputs": [
    {
     "name": "stdout",
     "output_type": "stream",
     "text": [
      "Enter number of Copper: 34\n",
      "Enter number of Silver: 54\n",
      "Enter number of Electrum: 5\n",
      "Enter number of Gold: 677\n",
      "Enter number of Platinum: 4\n"
     ]
    }
   ],
   "source": [
    "userNumCopper = int (input ('Enter number of Copper: '))\n",
    "userNumSilver = int (input ('Enter number of Silver: '))\n",
    "userNumElectrum = int (input ('Enter number of Electrum: '))\n",
    "userNumGold = int (input ('Enter number of Gold: '))\n",
    "userNumPlatinum = int (input ('Enter number of Platinum: '))"
   ]
  },
  {
   "cell_type": "code",
   "execution_count": 9,
   "metadata": {},
   "outputs": [
    {
     "data": {
      "text/plain": [
       "34"
      ]
     },
     "execution_count": 9,
     "metadata": {},
     "output_type": "execute_result"
    }
   ],
   "source": [
    "userNumCopper"
   ]
  },
  {
   "cell_type": "code",
   "execution_count": 13,
   "metadata": {},
   "outputs": [
    {
     "name": "stdout",
     "output_type": "stream",
     "text": [
      "725.24\n"
     ]
    }
   ],
   "source": [
    "totalGold = (userNumCopper * copper) + (userNumSilver * silver) + (userNumElectrum * electrum) + (userNumGold) + (userNumPlatinum * platinum)\n",
    "print(totalGold)"
   ]
  },
  {
   "cell_type": "code",
   "execution_count": null,
   "metadata": {},
   "outputs": [],
   "source": []
  },
  {
   "cell_type": "code",
   "execution_count": null,
   "metadata": {},
   "outputs": [],
   "source": []
  },
  {
   "cell_type": "code",
   "execution_count": null,
   "metadata": {},
   "outputs": [],
   "source": []
  },
  {
   "cell_type": "code",
   "execution_count": null,
   "metadata": {},
   "outputs": [],
   "source": []
  }
 ],
 "metadata": {
  "kernelspec": {
   "display_name": "Python 3",
   "language": "python",
   "name": "python3"
  },
  "language_info": {
   "codemirror_mode": {
    "name": "ipython",
    "version": 3
   },
   "file_extension": ".py",
   "mimetype": "text/x-python",
   "name": "python",
   "nbconvert_exporter": "python",
   "pygments_lexer": "ipython3",
   "version": "3.8.5"
  },
  "toc": {
   "base_numbering": 1,
   "nav_menu": {},
   "number_sections": true,
   "sideBar": true,
   "skip_h1_title": true,
   "title_cell": "Table of Contents",
   "title_sidebar": "Contents",
   "toc_cell": false,
   "toc_position": {},
   "toc_section_display": true,
   "toc_window_display": false
  },
  "varInspector": {
   "cols": {
    "lenName": 16,
    "lenType": 16,
    "lenVar": 40
   },
   "kernels_config": {
    "python": {
     "delete_cmd_postfix": "",
     "delete_cmd_prefix": "del ",
     "library": "var_list.py",
     "varRefreshCmd": "print(var_dic_list())"
    },
    "r": {
     "delete_cmd_postfix": ") ",
     "delete_cmd_prefix": "rm(",
     "library": "var_list.r",
     "varRefreshCmd": "cat(var_dic_list()) "
    }
   },
   "types_to_exclude": [
    "module",
    "function",
    "builtin_function_or_method",
    "instance",
    "_Feature"
   ],
   "window_display": false
  }
 },
 "nbformat": 4,
 "nbformat_minor": 4
}
