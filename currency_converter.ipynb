{
 "cells": [
  {
   "cell_type": "markdown",
   "metadata": {},
   "source": [
    "# Dungeons and Dragons Currency Converter"
   ]
  },
  {
   "cell_type": "markdown",
   "metadata": {},
   "source": [
    "DND 5th edition"
   ]
  },
  {
   "cell_type": "code",
   "execution_count": 1,
   "metadata": {},
   "outputs": [],
   "source": [
    "copper = 1/100\n",
    "silver = 1/10\n",
    "electrum = 1/2\n",
    "gold = 1\n",
    "platinum = 10"
   ]
  },
  {
   "cell_type": "code",
   "execution_count": 2,
   "metadata": {},
   "outputs": [
    {
     "name": "stdout",
     "output_type": "stream",
     "text": [
      "20\n"
     ]
    }
   ],
   "source": [
    "cp = 500\n",
    "sp = 20\n",
    "ep = 12\n",
    "gp = 23\n",
    "pp = 2\n",
    "\n",
    "print(platinum * pp)"
   ]
  },
  {
   "cell_type": "code",
   "execution_count": 3,
   "metadata": {},
   "outputs": [],
   "source": [
    "def coins_given(amount):\n",
    "    coins = [(25, 'quarter'), (10, 'dime'), (5, 'nickel'), (1, 'penny')]\n",
    "    answer = {}\n",
    "    for coin_value, coin_name in coins:\n",
    "        if amount >= coin_value:\n",
    "            number_coin, amount = divmod(amount, coin_value)\n",
    "            answer[coin_name] = number_coin\n",
    "    return answer"
   ]
  },
  {
   "cell_type": "code",
   "execution_count": 4,
   "metadata": {},
   "outputs": [
    {
     "data": {
      "text/plain": [
       "{'quarter': 235, 'penny': 1}"
      ]
     },
     "execution_count": 4,
     "metadata": {},
     "output_type": "execute_result"
    }
   ],
   "source": [
    "coins_given(5876)"
   ]
  },
  {
   "cell_type": "code",
   "execution_count": 5,
   "metadata": {},
   "outputs": [],
   "source": [
    "def coins_given(amount):\n",
    "    coins = [(10, 'platinum'), (1, 'gold'), (.5, 'electrum'), (.1, 'silver'), (.01, 'copper')]\n",
    "    answer = {}\n",
    "    for coin_value, coin_name in coins:\n",
    "        if amount >= coin_value:\n",
    "            number_coin, amount = divmod(amount, coin_value)\n",
    "            answer[coin_name] = number_coin\n",
    "    return answer"
   ]
  },
  {
   "cell_type": "code",
   "execution_count": 6,
   "metadata": {},
   "outputs": [
    {
     "data": {
      "text/plain": [
       "{'platinum': 456, 'gold': 6}"
      ]
     },
     "execution_count": 6,
     "metadata": {},
     "output_type": "execute_result"
    }
   ],
   "source": [
    "coins_given(4566)"
   ]
  },
  {
   "cell_type": "markdown",
   "metadata": {},
   "source": [
    "# Get Coin Info from User"
   ]
  },
  {
   "cell_type": "code",
   "execution_count": 7,
   "metadata": {},
   "outputs": [
    {
     "name": "stdout",
     "output_type": "stream",
     "text": [
      "Enter number of Copper: 34\n",
      "Enter number of Silver: 54\n",
      "Enter number of Electrum: 5\n",
      "Enter number of Gold: 677\n",
      "Enter number of Platinum: 4\n"
     ]
    }
   ],
   "source": [
    "# used for demo 34 copper, 54, 5, 677, 4 plat\n",
    "userNumCopper = int (input ('Enter number of Copper: '))\n",
    "userNumSilver = int (input ('Enter number of Silver: '))\n",
    "userNumElectrum = int (input ('Enter number of Electrum: '))\n",
    "userNumGold = int (input ('Enter number of Gold: '))\n",
    "userNumPlatinum = int (input ('Enter number of Platinum: '))"
   ]
  },
  {
   "cell_type": "code",
   "execution_count": 8,
   "metadata": {},
   "outputs": [
    {
     "data": {
      "text/plain": [
       "34"
      ]
     },
     "execution_count": 8,
     "metadata": {},
     "output_type": "execute_result"
    }
   ],
   "source": [
    "userNumCopper"
   ]
  },
  {
   "cell_type": "code",
   "execution_count": 24,
   "metadata": {},
   "outputs": [
    {
     "data": {
      "text/plain": [
       "0.34"
      ]
     },
     "execution_count": 24,
     "metadata": {},
     "output_type": "execute_result"
    }
   ],
   "source": [
    "userNumCopper * copper"
   ]
  },
  {
   "cell_type": "code",
   "execution_count": 9,
   "metadata": {},
   "outputs": [
    {
     "name": "stdout",
     "output_type": "stream",
     "text": [
      "You have 725 gold pieces.\n"
     ]
    }
   ],
   "source": [
    "# tell user how much they have in gold pieces\n",
    "totalGold = (userNumCopper * copper) + (userNumSilver * silver) + (userNumElectrum * electrum) + \\\n",
    "    (userNumGold) + (userNumPlatinum * platinum)\n",
    "totalGold = round(totalGold)\n",
    "\n",
    "print(f'You have {totalGold} gold pieces.')"
   ]
  },
  {
   "cell_type": "code",
   "execution_count": 10,
   "metadata": {},
   "outputs": [
    {
     "name": "stdout",
     "output_type": "stream",
     "text": [
      "How much gold do you want to spend? 700\n"
     ]
    }
   ],
   "source": [
    "userSpendGold = int(input ('How much gold do you want to spend? '))"
   ]
  },
  {
   "cell_type": "code",
   "execution_count": 11,
   "metadata": {},
   "outputs": [],
   "source": [
    "if userSpendGold > totalGold:\n",
    "    print('You do not have enough money. Sorry!')\n",
    "    print(f'Total Gold: {totalGold} \\t Gold you need: {userSpendGold}')"
   ]
  },
  {
   "cell_type": "code",
   "execution_count": 12,
   "metadata": {},
   "outputs": [],
   "source": [
    "# function to get coins from\n",
    "def change(n, coins_available, coins_used):\n",
    "    if sum(coins_used) == n:\n",
    "        yield coins_used\n",
    "    elif sum(coins_used) > n:\n",
    "        pass\n",
    "    elif coins_available == []:\n",
    "        pass\n",
    "    else:\n",
    "        # have multiple occurances of the same coin within the same list\n",
    "        # if you are not removing the available ones, you will always end up with what you have\n",
    "        # n= 5 -> 1,1,1,1,1 or 5\n",
    "        for c in change(n, coins_available[:], coins_used + [coins_available[0]]):\n",
    "            yield c\n",
    "        # stop picking 1's and move on to 5's\n",
    "        for c in change(n, coins_available[1:], coins_used):\n",
    "            yield c"
   ]
  },
  {
   "cell_type": "code",
   "execution_count": 13,
   "metadata": {},
   "outputs": [
    {
     "name": "stdout",
     "output_type": "stream",
     "text": [
      "Best Solution:  [1, 1, 1, 10, 10, 10, 10, 50, 100, 100, 100, 100, 100, 100]\n"
     ]
    }
   ],
   "source": [
    "coins = [1, 10, 50, 100, 1000]\n",
    "n = 693\n",
    "solutions = [i for i in change(n, coins, [])]\n",
    "\n",
    "print ('Best Solution: ', min(solutions, key= len))"
   ]
  },
  {
   "cell_type": "markdown",
   "metadata": {},
   "source": [
    "# Get it to use user input"
   ]
  },
  {
   "cell_type": "code",
   "execution_count": 14,
   "metadata": {},
   "outputs": [
    {
     "data": {
      "text/plain": [
       "' \\nThings this needs to be able to do:\\n1. Subtract all available gold pieces from spendgold\\n2. Record how many gold pieces that was\\n3. Go to next largest denomination and try that\\n3. Record how many pieces that was\\n4. Continue down the list until the exact amount has been reached \\n5. Print how many of each coins is required\\n6. At any point - stop if number goes negative\\n'"
      ]
     },
     "execution_count": 14,
     "metadata": {},
     "output_type": "execute_result"
    }
   ],
   "source": [
    "''' \n",
    "Things this needs to be able to do:\n",
    "1. Subtract all available gold pieces from spendgold\n",
    "2. Record how many gold pieces that was (enumerate?)\n",
    "3. Go to next largest denomination and try that\n",
    "3. Record how many pieces that was\n",
    "4. Continue down the list until the exact amount has been reached \n",
    "5. Print how many of each coins is required\n",
    "6. At any point - stop if number goes negative\n",
    "'''"
   ]
  },
  {
   "cell_type": "code",
   "execution_count": 15,
   "metadata": {},
   "outputs": [],
   "source": [
    "userSpendGold = 702"
   ]
  },
  {
   "cell_type": "code",
   "execution_count": 16,
   "metadata": {},
   "outputs": [],
   "source": [
    "# subtract gold from userspendgold\n",
    "newGoldValue = userSpendGold - userNumGold"
   ]
  },
  {
   "cell_type": "code",
   "execution_count": 17,
   "metadata": {},
   "outputs": [
    {
     "data": {
      "text/plain": [
       "25"
      ]
     },
     "execution_count": 17,
     "metadata": {},
     "output_type": "execute_result"
    }
   ],
   "source": [
    "newGoldValue\n",
    "#25"
   ]
  },
  {
   "cell_type": "code",
   "execution_count": 18,
   "metadata": {},
   "outputs": [],
   "source": [
    "# next subtract next largest value - platinum\n",
    "newGoldValue = newGoldValue - (userNumPlatinum * platinum)"
   ]
  },
  {
   "cell_type": "code",
   "execution_count": 19,
   "metadata": {},
   "outputs": [
    {
     "data": {
      "text/plain": [
       "-15"
      ]
     },
     "execution_count": 19,
     "metadata": {},
     "output_type": "execute_result"
    }
   ],
   "source": [
    "newGoldValue\n",
    "#-15"
   ]
  },
  {
   "cell_type": "code",
   "execution_count": 20,
   "metadata": {},
   "outputs": [],
   "source": [
    "# next subtract next largest value - electrum\n",
    "newGoldValue = newGoldValue - (userNumElectrum * electrum)"
   ]
  },
  {
   "cell_type": "code",
   "execution_count": 21,
   "metadata": {},
   "outputs": [
    {
     "data": {
      "text/plain": [
       "-17.5"
      ]
     },
     "execution_count": 21,
     "metadata": {},
     "output_type": "execute_result"
    }
   ],
   "source": [
    "newGoldValue"
   ]
  },
  {
   "cell_type": "code",
   "execution_count": 22,
   "metadata": {},
   "outputs": [
    {
     "name": "stdout",
     "output_type": "stream",
     "text": [
      "[{'value': 1, 'count': 5}, {'value': 2, 'count': 2}, {'value': 5, 'count': 3}, {'value': 10, 'count': 2}, {'value': 20, 'count': 2}]\n"
     ]
    }
   ],
   "source": [
    "def getChange(coins, amount, coinIndex = 0):\n",
    "    if amount == 0:\n",
    "        return [] # success\n",
    "    if coinIndex >= len(coins):\n",
    "        return None # failure\n",
    "    coin = coins[coinIndex]\n",
    "    coinIndex += 1\n",
    "    # Start by taking as many as possible from this coin\n",
    "    canTake = min(amount // coin[\"value\"], coin[\"count\"])\n",
    "    # Reduce the number taken from this coin until success\n",
    "    for count in range(canTake, -1, -1): # count will go down to zero\n",
    "        # Recurse to decide how many to take from the next coins\n",
    "        change = getChange(coins, amount - coin[\"value\"] * count, coinIndex)\n",
    "        if change != None: # We had success\n",
    "            if count: # Register this number for this coin:\n",
    "                return change + [{ \"value\": coin[\"value\"], \"count\": count }]\n",
    "            return change\n",
    "\n",
    "\n",
    "# Example data and call:\n",
    "coins = [\n",
    "    { \"value\": 20, \"count\":  2 },   \n",
    "    { \"value\": 10, \"count\":  2 },\n",
    "    { \"value\":  5, \"count\":  3 },\n",
    "    { \"value\":  2, \"count\":  2 },\n",
    "    { \"value\":  1, \"count\": 10 }\n",
    "]\n",
    "\n",
    "result = getChange(coins, 84)\n",
    "print(result)"
   ]
  },
  {
   "cell_type": "code",
   "execution_count": 23,
   "metadata": {},
   "outputs": [
    {
     "name": "stdout",
     "output_type": "stream",
     "text": [
      "[{'value': 8, 'count': 2}, {'value': 10, 'count': 1}]\n"
     ]
    }
   ],
   "source": [
    "def getchange(coins, amount):\n",
    "    minCount = None\n",
    "\n",
    "    def recurse(amount, coinIndex, coinCount):\n",
    "        nonlocal minCount\n",
    "        if amount == 0:\n",
    "            if minCount == None or coinCount < minCount:\n",
    "                minCount = coinCount\n",
    "                return [] # success\n",
    "            return None # not optimal\n",
    "        if coinIndex >= len(coins):\n",
    "            return None # failure\n",
    "        bestChange = None\n",
    "        coin = coins[coinIndex]\n",
    "        # Start by taking as many as possible from this coin\n",
    "        cantake = min(amount // coin[\"value\"], coin[\"count\"])\n",
    "        # Reduce the number taken from this coin until 0\n",
    "        for count in range(cantake, -1, -1):\n",
    "            # Recurse, taking out this coin as a possible choice\n",
    "            change = recurse(amount - coin[\"value\"] * count, coinIndex + 1, \n",
    "                                                             coinCount + count)\n",
    "            # Do we have a solution that is better than the best so far?\n",
    "            if change != None: \n",
    "                if count: # Does it involve this coin?\n",
    "                    change.append({ \"value\": coin[\"value\"], \"count\": count })\n",
    "                bestChange = change # register this as the best so far\n",
    "        return bestChange\n",
    "\n",
    "    return recurse(amount, 0, 0)\n",
    "\n",
    "coins = [{ \"value\": 10, \"count\":  2 },\n",
    "         { \"value\":  8, \"count\":  2 },\n",
    "         { \"value\":  3, \"count\": 10 }]\n",
    "\n",
    "result = getchange(coins, 26)\n",
    "print(result)\n"
   ]
  },
  {
   "cell_type": "code",
   "execution_count": 30,
   "metadata": {},
   "outputs": [
    {
     "name": "stdout",
     "output_type": "stream",
     "text": [
      "[{'value': 1, 'count': 676}]\n"
     ]
    }
   ],
   "source": [
    "# use DND currency terms\n",
    "def getChange(coins, amount, coinIndex = 0):\n",
    "    if amount == 0:\n",
    "        return [] # success\n",
    "    if coinIndex >= len(coins):\n",
    "        return None # failure\n",
    "    coin = coins[coinIndex]\n",
    "    coinIndex += 1\n",
    "    # Start by taking as many as possible from this coin\n",
    "    canTake = min(amount // coin[\"value\"], coin[\"count\"])\n",
    "    # Reduce the number taken from this coin until success\n",
    "    for count in range(canTake, -1, -1): # count will go down to zero\n",
    "        # Recurse to decide how many to take from the next coins\n",
    "        change = getChange(coins, amount - coin[\"value\"] * count, coinIndex)\n",
    "        if change != None: # We had success\n",
    "            if count: # Register this number for this coin:\n",
    "                return change + [{ \"value\": coin[\"value\"], \"count\": count }]\n",
    "            return change\n",
    "\n",
    "\n",
    "# Example data and call:\n",
    "coins = [\n",
    "    { \"value\": gold, \"count\":  676 },   \n",
    "    { \"value\": platinum, \"count\":  4 },   \n",
    "    { \"value\":  electrum, \"count\":  5 },\n",
    "    { \"value\":  silver, \"count\":  54 },\n",
    "    { \"value\":  copper, \"count\": 34 } \n",
    "]\n",
    "\n",
    "result = getChange(coins, 676)\n",
    "print(result)"
   ]
  },
  {
   "cell_type": "code",
   "execution_count": null,
   "metadata": {},
   "outputs": [],
   "source": []
  }
 ],
 "metadata": {
  "kernelspec": {
   "display_name": "Python 3",
   "language": "python",
   "name": "python3"
  },
  "language_info": {
   "codemirror_mode": {
    "name": "ipython",
    "version": 3
   },
   "file_extension": ".py",
   "mimetype": "text/x-python",
   "name": "python",
   "nbconvert_exporter": "python",
   "pygments_lexer": "ipython3",
   "version": "3.8.5"
  },
  "toc": {
   "base_numbering": 1,
   "nav_menu": {},
   "number_sections": true,
   "sideBar": true,
   "skip_h1_title": true,
   "title_cell": "Table of Contents",
   "title_sidebar": "Contents",
   "toc_cell": false,
   "toc_position": {},
   "toc_section_display": true,
   "toc_window_display": false
  },
  "varInspector": {
   "cols": {
    "lenName": 16,
    "lenType": 16,
    "lenVar": 40
   },
   "kernels_config": {
    "python": {
     "delete_cmd_postfix": "",
     "delete_cmd_prefix": "del ",
     "library": "var_list.py",
     "varRefreshCmd": "print(var_dic_list())"
    },
    "r": {
     "delete_cmd_postfix": ") ",
     "delete_cmd_prefix": "rm(",
     "library": "var_list.r",
     "varRefreshCmd": "cat(var_dic_list()) "
    }
   },
   "types_to_exclude": [
    "module",
    "function",
    "builtin_function_or_method",
    "instance",
    "_Feature"
   ],
   "window_display": false
  }
 },
 "nbformat": 4,
 "nbformat_minor": 4
}
