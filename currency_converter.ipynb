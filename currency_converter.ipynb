{
 "cells": [
  {
   "cell_type": "markdown",
   "metadata": {},
   "source": [
    "# Dungeons and Dragons Currency Converter"
   ]
  },
  {
   "cell_type": "markdown",
   "metadata": {},
   "source": [
    "DND 5th edition\n",
    "\n",
    "https://stackoverflow.com/questions/44213144/coin-change-with-limited-coins-complexity"
   ]
  },
  {
   "cell_type": "code",
   "execution_count": 12,
   "metadata": {
    "ExecuteTime": {
     "end_time": "2021-07-09T20:16:03.023369Z",
     "start_time": "2021-07-09T20:16:02.702762Z"
    }
   },
   "outputs": [],
   "source": [
    "import numpy as np\n",
    "import pprint\n",
    "import pandas as pd"
   ]
  },
  {
   "cell_type": "code",
   "execution_count": 2,
   "metadata": {
    "ExecuteTime": {
     "end_time": "2021-07-09T19:39:53.825742Z",
     "start_time": "2021-07-09T19:39:53.820465Z"
    }
   },
   "outputs": [],
   "source": [
    "# Final working function\n",
    "copper = 1/100\n",
    "silver = 1/10\n",
    "electrum = 1/2\n",
    "gold = 1\n",
    "platinum = 10\n",
    "\n",
    "def getCoins(coins, amount, coinIndex = 0):\n",
    "    amount = float(amount)\n",
    "    if amount == 0:\n",
    "        return [] # all done! You did it!\n",
    "    if coinIndex >= len(coins):\n",
    "        return None # don't have enough money / coins\n",
    "    \n",
    "    # names of coins to print later\n",
    "    coinNames = ['', 'Gold', 'Platinum', 'Electrum', 'Silver', 'Copper']\n",
    "    \n",
    "    # start calculations\n",
    "    coin = coins[coinIndex] # 1= gold, 2= platinum, ...\n",
    "    coinIndex += 1 \n",
    "    # First, take as may as possible from first listed coin (will start at Index 1 (gold))\n",
    "    canTake = int(min(amount / coin['value'], coin['count']))\n",
    "    \n",
    "    #Reduce the number taken from this coin until success\n",
    "    for count in np.arange(canTake, -1.0, -1):  # take away 1 until count reaches 0\n",
    "        \n",
    "        # Recurse to decide how many to take from next coin\n",
    "        change = getCoins(coins, amount - coin['value'] * count, coinIndex)\n",
    "        if change != None: # Success! We are done!\n",
    "            if count: # Register this number for this coin\n",
    "                return change + [{'Coin Name': coinNames[coinIndex], 'Amount': int(count)}]\n",
    "            return change"
   ]
  },
  {
   "cell_type": "code",
   "execution_count": null,
   "metadata": {
    "ExecuteTime": {
     "end_time": "2021-07-09T19:34:13.526408Z",
     "start_time": "2021-07-09T19:34:13.523647Z"
    }
   },
   "outputs": [],
   "source": [
    "# userNumCopper = 0\n",
    "# userNumSilver = 0\n",
    "# userNumElectrum = 0\n",
    "# userNumGold = 0\n",
    "# userNumPlatinum = 0"
   ]
  },
  {
   "cell_type": "code",
   "execution_count": null,
   "metadata": {
    "ExecuteTime": {
     "end_time": "2021-07-09T19:36:25.826283Z",
     "start_time": "2021-07-09T19:36:23.729099Z"
    }
   },
   "outputs": [],
   "source": [
    "# # have user input the amount they have for each coin\n",
    "# userNumCopper = abs( int (input ('Enter number of Copper: '))) \n",
    "# userNumSilver = abs (int (input ('Enter number of Silver: '))) \n",
    "# userNumElectrum = abs (int (input ('Enter number of Electrum: ')))\n",
    "# userNumGold = abs (int (input ('Enter number of Gold: ')))\n",
    "# userNumPlatinum = abs (int (input ('Enter number of Platinum: ')))"
   ]
  },
  {
   "cell_type": "code",
   "execution_count": 8,
   "metadata": {
    "ExecuteTime": {
     "end_time": "2021-07-09T19:43:18.029246Z",
     "start_time": "2021-07-09T19:43:05.047278Z"
    }
   },
   "outputs": [
    {
     "name": "stdout",
     "output_type": "stream",
     "text": [
      "Enter number of Copper: 100\n",
      "Enter number of Silver: 100\n",
      "Enter number of Electrum: 10\n",
      "Enter number of Gold: 10\n",
      "Enter number of Platinum: 10\n"
     ]
    }
   ],
   "source": [
    "# # have user input the amount they have for each coin\n",
    "while True:\n",
    "    try: \n",
    "        userNumCopper = abs( int (input ('Enter number of Copper: ')))\n",
    "        userNumSilver = abs (int (input ('Enter number of Silver: ')))\n",
    "        userNumElectrum = abs (int (input ('Enter number of Electrum: ')))\n",
    "        userNumGold = abs (int (input ('Enter number of Gold: ')))\n",
    "        userNumPlatinum = abs (int (input ('Enter number of Platinum: ')))\n",
    "\n",
    "    except ValueError as e:\n",
    "        e == 0\n",
    "        continue\n",
    "    \n",
    "    break"
   ]
  },
  {
   "cell_type": "code",
   "execution_count": 9,
   "metadata": {
    "ExecuteTime": {
     "end_time": "2021-07-09T19:43:19.619320Z",
     "start_time": "2021-07-09T19:43:19.615651Z"
    }
   },
   "outputs": [
    {
     "name": "stdout",
     "output_type": "stream",
     "text": [
      "You have 126 gold pieces.\n"
     ]
    }
   ],
   "source": [
    "# tell user how much they have in gold pieces\n",
    "totalGold = (userNumCopper * copper) + (userNumSilver * silver) + (userNumElectrum * electrum) + \\\n",
    "    (userNumGold) + (userNumPlatinum * platinum)\n",
    "totalGold = round(totalGold)\n",
    "\n",
    "print(f'You have {totalGold} gold pieces.')"
   ]
  },
  {
   "cell_type": "code",
   "execution_count": 10,
   "metadata": {
    "ExecuteTime": {
     "end_time": "2021-07-09T19:43:34.205996Z",
     "start_time": "2021-07-09T19:43:29.358614Z"
    }
   },
   "outputs": [
    {
     "name": "stdout",
     "output_type": "stream",
     "text": [
      "How much gold do you want to spend? 124\n"
     ]
    }
   ],
   "source": [
    "userSpendGold = int(input ('How much gold do you want to spend? '))"
   ]
  },
  {
   "cell_type": "code",
   "execution_count": 11,
   "metadata": {
    "ExecuteTime": {
     "end_time": "2021-07-09T19:43:35.751073Z",
     "start_time": "2021-07-09T19:43:35.746541Z"
    },
    "scrolled": true
   },
   "outputs": [
    {
     "name": "stdout",
     "output_type": "stream",
     "text": [
      "[{'Amount': 90, 'Coin Name': 'Silver'},\n",
      " {'Amount': 10, 'Coin Name': 'Electrum'},\n",
      " {'Amount': 10, 'Coin Name': 'Platinum'},\n",
      " {'Amount': 10, 'Coin Name': 'Gold'}]\n"
     ]
    }
   ],
   "source": [
    "if userSpendGold > totalGold:\n",
    "    print('You do not have enough money. Sorry!')\n",
    "    print(f'Total Gold: {totalGold} \\t Gold you need: {userSpendGold}')\n",
    "    \n",
    "else:\n",
    "    coins = [\n",
    "    { \"value\": gold, \"count\":  userNumGold },   \n",
    "    { \"value\": platinum, \"count\":  userNumPlatinum },   \n",
    "    { \"value\":  electrum, \"count\":  userNumElectrum },\n",
    "    { \"value\":  silver, \"count\":  userNumSilver },\n",
    "    { \"value\":  copper, \"count\": userNumCopper } \n",
    "    ]\n",
    "    \n",
    "    \n",
    "    result = getCoins(coins, userSpendGold)\n",
    "    pprint.pprint(result)\n"
   ]
  },
  {
   "cell_type": "code",
   "execution_count": 14,
   "metadata": {
    "ExecuteTime": {
     "end_time": "2021-07-09T20:16:45.564436Z",
     "start_time": "2021-07-09T20:16:45.560737Z"
    }
   },
   "outputs": [],
   "source": [
    "df = pd.DataFrame(result)"
   ]
  },
  {
   "cell_type": "code",
   "execution_count": 15,
   "metadata": {
    "ExecuteTime": {
     "end_time": "2021-07-09T20:16:50.444854Z",
     "start_time": "2021-07-09T20:16:50.431917Z"
    }
   },
   "outputs": [
    {
     "data": {
      "text/html": [
       "<div>\n",
       "<style scoped>\n",
       "    .dataframe tbody tr th:only-of-type {\n",
       "        vertical-align: middle;\n",
       "    }\n",
       "\n",
       "    .dataframe tbody tr th {\n",
       "        vertical-align: top;\n",
       "    }\n",
       "\n",
       "    .dataframe thead th {\n",
       "        text-align: right;\n",
       "    }\n",
       "</style>\n",
       "<table border=\"1\" class=\"dataframe\">\n",
       "  <thead>\n",
       "    <tr style=\"text-align: right;\">\n",
       "      <th></th>\n",
       "      <th>Coin Name</th>\n",
       "      <th>Amount</th>\n",
       "    </tr>\n",
       "  </thead>\n",
       "  <tbody>\n",
       "    <tr>\n",
       "      <th>0</th>\n",
       "      <td>Silver</td>\n",
       "      <td>90</td>\n",
       "    </tr>\n",
       "    <tr>\n",
       "      <th>1</th>\n",
       "      <td>Electrum</td>\n",
       "      <td>10</td>\n",
       "    </tr>\n",
       "    <tr>\n",
       "      <th>2</th>\n",
       "      <td>Platinum</td>\n",
       "      <td>10</td>\n",
       "    </tr>\n",
       "    <tr>\n",
       "      <th>3</th>\n",
       "      <td>Gold</td>\n",
       "      <td>10</td>\n",
       "    </tr>\n",
       "  </tbody>\n",
       "</table>\n",
       "</div>"
      ],
      "text/plain": [
       "  Coin Name  Amount\n",
       "0    Silver      90\n",
       "1  Electrum      10\n",
       "2  Platinum      10\n",
       "3      Gold      10"
      ]
     },
     "execution_count": 15,
     "metadata": {},
     "output_type": "execute_result"
    }
   ],
   "source": [
    "df"
   ]
  },
  {
   "cell_type": "code",
   "execution_count": null,
   "metadata": {},
   "outputs": [],
   "source": [
    "hist_values = np.histogram(df)\n",
    "st.bar_chart(hist_values)"
   ]
  },
  {
   "cell_type": "code",
   "execution_count": null,
   "metadata": {},
   "outputs": [],
   "source": []
  },
  {
   "cell_type": "markdown",
   "metadata": {},
   "source": [
    "And that's it! We did it! Now, to get this into a website so others can use it!"
   ]
  },
  {
   "cell_type": "code",
   "execution_count": null,
   "metadata": {},
   "outputs": [],
   "source": []
  },
  {
   "cell_type": "code",
   "execution_count": null,
   "metadata": {},
   "outputs": [],
   "source": []
  },
  {
   "cell_type": "markdown",
   "metadata": {},
   "source": [
    "# What it took to get the final product!\n",
    "\n",
    "Below are the trial and error functions I went through to reach the final working function with the desired output"
   ]
  },
  {
   "cell_type": "code",
   "execution_count": null,
   "metadata": {},
   "outputs": [],
   "source": [
    "coins_given(5876)"
   ]
  },
  {
   "cell_type": "code",
   "execution_count": null,
   "metadata": {},
   "outputs": [],
   "source": [
    "def coins_given(amount):\n",
    "    coins = [(25, 'quarter'), (10, 'dime'), (5, 'nickel'), (1, 'penny')]\n",
    "    answer = {}\n",
    "    for coin_value, coin_name in coins:\n",
    "        if amount >= coin_value:\n",
    "            number_coin, amount = divmod(amount, coin_value)\n",
    "            answer[coin_name] = number_coin\n",
    "    return answer"
   ]
  },
  {
   "cell_type": "code",
   "execution_count": null,
   "metadata": {},
   "outputs": [],
   "source": [
    "def coins_given(amount):\n",
    "    coins = [(10, 'platinum'), (1, 'gold'), (.5, 'electrum'), (.1, 'silver'), (.01, 'copper')]\n",
    "    answer = {}\n",
    "    for coin_value, coin_name in coins:\n",
    "        if amount >= coin_value:\n",
    "            number_coin, amount = divmod(amount, coin_value)\n",
    "            answer[coin_name] = number_coin\n",
    "    return answer"
   ]
  },
  {
   "cell_type": "code",
   "execution_count": null,
   "metadata": {},
   "outputs": [],
   "source": [
    "coins_given(4566)"
   ]
  },
  {
   "cell_type": "markdown",
   "metadata": {},
   "source": [
    "# Get Coin Info from User"
   ]
  },
  {
   "cell_type": "code",
   "execution_count": null,
   "metadata": {},
   "outputs": [],
   "source": [
    "# used for demo 34 copper, 54, 5, 677, 4 plat\n",
    "userNumCopper = int (input ('Enter number of Copper: '))\n",
    "userNumSilver = int (input ('Enter number of Silver: '))\n",
    "userNumElectrum = int (input ('Enter number of Electrum: '))\n",
    "userNumGold = int (input ('Enter number of Gold: '))\n",
    "userNumPlatinum = int (input ('Enter number of Platinum: '))"
   ]
  },
  {
   "cell_type": "code",
   "execution_count": null,
   "metadata": {},
   "outputs": [],
   "source": [
    "userNumCopper"
   ]
  },
  {
   "cell_type": "code",
   "execution_count": null,
   "metadata": {},
   "outputs": [],
   "source": [
    "11 * silver"
   ]
  },
  {
   "cell_type": "code",
   "execution_count": null,
   "metadata": {},
   "outputs": [],
   "source": [
    "# tell user how much they have in gold pieces\n",
    "totalGold = (userNumCopper * copper) + (userNumSilver * silver) + (userNumElectrum * electrum) + \\\n",
    "    (userNumGold) + (userNumPlatinum * platinum)\n",
    "totalGold = round(totalGold)\n",
    "\n",
    "print(f'You have {totalGold} gold pieces.')"
   ]
  },
  {
   "cell_type": "code",
   "execution_count": null,
   "metadata": {
    "scrolled": true
   },
   "outputs": [],
   "source": [
    "userSpendGold = int(input ('How much gold do you want to spend? '))"
   ]
  },
  {
   "cell_type": "code",
   "execution_count": null,
   "metadata": {},
   "outputs": [],
   "source": [
    "userSpendGold"
   ]
  },
  {
   "cell_type": "code",
   "execution_count": null,
   "metadata": {},
   "outputs": [],
   "source": [
    "if userSpendGold > totalGold:\n",
    "    print('You do not have enough money. Sorry!')\n",
    "    print(f'Total Gold: {totalGold} \\t Gold you need: {userSpendGold}')"
   ]
  },
  {
   "cell_type": "code",
   "execution_count": null,
   "metadata": {},
   "outputs": [],
   "source": [
    "# function to get coins from\n",
    "def change(n, coins_available, coins_used):\n",
    "    if sum(coins_used) == n:\n",
    "        yield coins_used\n",
    "    elif sum(coins_used) > n:\n",
    "        pass\n",
    "    elif coins_available == []:\n",
    "        pass\n",
    "    else:\n",
    "        # have multiple occurances of the same coin within the same list\n",
    "        # if you are not removing the available ones, you will always end up with what you have\n",
    "        # n= 5 -> 1,1,1,1,1 or 5\n",
    "        for c in change(n, coins_available[:], coins_used + [coins_available[0]]):\n",
    "            yield c\n",
    "        # stop picking 1's and move on to 5's\n",
    "        for c in change(n, coins_available[1:], coins_used):\n",
    "            yield c"
   ]
  },
  {
   "cell_type": "code",
   "execution_count": null,
   "metadata": {},
   "outputs": [],
   "source": [
    "coins = [1, 10, 50, 100, 1000]\n",
    "n = 693\n",
    "solutions = [i for i in change(n, coins, [])]\n",
    "\n",
    "print ('Best Solution: ', min(solutions, key= len))"
   ]
  },
  {
   "cell_type": "markdown",
   "metadata": {},
   "source": [
    "# Get it to use user input"
   ]
  },
  {
   "cell_type": "code",
   "execution_count": null,
   "metadata": {},
   "outputs": [],
   "source": [
    "userSpendGold = 702"
   ]
  },
  {
   "cell_type": "code",
   "execution_count": null,
   "metadata": {},
   "outputs": [],
   "source": [
    "# subtract gold from userspendgold\n",
    "newGoldValue = userSpendGold - userNumGold"
   ]
  },
  {
   "cell_type": "code",
   "execution_count": null,
   "metadata": {},
   "outputs": [],
   "source": [
    "newGoldValue\n",
    "#25"
   ]
  },
  {
   "cell_type": "code",
   "execution_count": null,
   "metadata": {},
   "outputs": [],
   "source": [
    "# next subtract next largest value - platinum\n",
    "newGoldValue = newGoldValue - (userNumPlatinum * platinum)"
   ]
  },
  {
   "cell_type": "code",
   "execution_count": null,
   "metadata": {},
   "outputs": [],
   "source": [
    "newGoldValue\n",
    "#-15"
   ]
  },
  {
   "cell_type": "code",
   "execution_count": null,
   "metadata": {},
   "outputs": [],
   "source": [
    "# next subtract next largest value - electrum\n",
    "newGoldValue = newGoldValue - (userNumElectrum * electrum)"
   ]
  },
  {
   "cell_type": "code",
   "execution_count": null,
   "metadata": {},
   "outputs": [],
   "source": [
    "newGoldValue"
   ]
  },
  {
   "cell_type": "code",
   "execution_count": null,
   "metadata": {},
   "outputs": [],
   "source": [
    "def getChange(coins, amount, coinIndex = 0):\n",
    "    if amount == 0:\n",
    "        return [] # success\n",
    "    if coinIndex >= len(coins):\n",
    "        return None # failure\n",
    "    coin = coins[coinIndex]\n",
    "    coinIndex += 1\n",
    "    # Start by taking as many as possible from this coin\n",
    "    canTake = min(amount // coin[\"value\"], coin[\"count\"])\n",
    "    # Reduce the number taken from this coin until success\n",
    "    for count in range(canTake, -1, -1): # count will go down to zero\n",
    "        # Recurse to decide how many to take from the next coins\n",
    "        change = getChange(coins, amount - coin[\"value\"] * count, coinIndex)\n",
    "        if change != None: # We had success\n",
    "            if count: # Register this number for this coin:\n",
    "                return change + [{ \"value\": coin[\"value\"], \"count\": count }]\n",
    "            return change\n",
    "\n",
    "\n",
    "# Example data and call:\n",
    "coins = [\n",
    "    { \"value\": 20, \"count\":  2 },   \n",
    "    { \"value\": 10, \"count\":  2 },\n",
    "    { \"value\":  5, \"count\":  3 },\n",
    "    { \"value\":  2, \"count\":  2 },\n",
    "    { \"value\":  1, \"count\": 10 }\n",
    "]\n",
    "\n",
    "result = getChange(coins, 84)\n",
    "print(result)"
   ]
  },
  {
   "cell_type": "code",
   "execution_count": null,
   "metadata": {},
   "outputs": [],
   "source": [
    "# use DND currency terms\n",
    "def getChange(coins, amount, coinIndex = 0):\n",
    "    amount = float(amount)\n",
    "    if amount == 0:\n",
    "        return [] # success\n",
    "    if coinIndex >= len(coins):\n",
    "        return None # failure\n",
    "    coin = coins[coinIndex]\n",
    "    coinIndex += 1\n",
    "    # Start by taking as many as possible from this coin\n",
    "    canTake = min(amount // coin[\"value\"], coin[\"count\"])\n",
    "    # Reduce the number taken from this coin until success\n",
    "    for count in np.arange(canTake, -1.0, -1): # count will go down to zero\n",
    "        # Recurse to decide how many to take from the next coins\n",
    "        change = getChange(coins, amount - coin[\"value\"] * count, coinIndex)\n",
    "        if change != None: # We had success\n",
    "            if count: # Register this number for this coin:\n",
    "                return change + [{ \"value\": coin[\"value\"], \"count\": count }]\n",
    "            return change\n",
    "\n",
    "\n",
    "# Example data and call:\n",
    "coins = [\n",
    "    { \"value\": gold, \"count\":  676 },   \n",
    "    { \"value\": platinum, \"count\":  4 },   \n",
    "    { \"value\":  electrum, \"count\":  5 },\n",
    "    { \"value\":  silver, \"count\":  0 },\n",
    "    { \"value\":  copper, \"count\": 1000 } \n",
    "]\n",
    "\n",
    "result = getChange(coins, 719)\n",
    "print(result)"
   ]
  },
  {
   "cell_type": "code",
   "execution_count": null,
   "metadata": {},
   "outputs": [],
   "source": [
    "# use DND currency terms\n",
    "def getChange(coins, amount, coinIndex = 0):\n",
    "    amount = float(amount)\n",
    "    if amount == 0:\n",
    "        return [] # success\n",
    "    if coinIndex >= len(coins):\n",
    "        return None # failure\n",
    "    coin = coins[coinIndex]\n",
    "    coinIndex += 1\n",
    "    # Start by taking as many as possible from this coin\n",
    "    canTake = min(amount / coin[\"value\"], coin[\"count\"])\n",
    "    # Reduce the number taken from this coin until success\n",
    "    for count in np.arange(canTake, -1.0, -1): # count will go down to zero\n",
    "        # Recurse to decide how many to take from the next coins\n",
    "        change = getChange(coins, amount - coin[\"value\"] * count, coinIndex)\n",
    "        if change != None: # We had success\n",
    "            if count: # Register this number for this coin:\n",
    "                return change + [{ \"value\": coin[\"value\"], \"count\": count }]\n",
    "            return change\n",
    "\n",
    "\n",
    "# Example data and call:\n",
    "coins = [\n",
    "    { \"value\": gold, \"count\":  676 },   \n",
    "    { \"value\": platinum, \"count\":  14 },   \n",
    "    { \"value\":  electrum, \"count\":  500 },\n",
    "    { \"value\":  silver, \"count\":  10 },\n",
    "    { \"value\":  copper, \"count\": 1000 } \n",
    "]\n",
    "\n",
    "result = getChange(coins, 842)\n",
    "print(result)"
   ]
  },
  {
   "cell_type": "code",
   "execution_count": null,
   "metadata": {},
   "outputs": [],
   "source": [
    "# use DND currency terms\n",
    "def getChange(coins, amount, coinIndex = 0):\n",
    "    amount = float(amount)\n",
    "    if amount == 0:\n",
    "        return [] # success\n",
    "    if coinIndex >= len(coins):\n",
    "        return None # failure\n",
    "    coin = coins[coinIndex]\n",
    "    coinIndex += 1\n",
    "    print(coinIndex)\n",
    "    # Start by taking as many as possible from this coin\n",
    "    canTake = int(min(amount / coin[\"value\"], coin[\"count\"]))\n",
    "    print (canTake)\n",
    "    # Reduce the number taken from this coin until success\n",
    "    for count in np.arange(canTake, -1.0, -1): # count will go down to zero\n",
    "        # Recurse to decide how many to take from the next coins\n",
    "        change = getChange(coins, amount - coin[\"value\"] * count, coinIndex)\n",
    "        if change != None: # We had success\n",
    "            if count: # Register this number for this coin:\n",
    "                return change + [{ \"value\": coin[\"value\"], \"count\": count }]\n",
    "            return change\n",
    "\n",
    "\n",
    "# Example data and call:\n",
    "coins = [\n",
    "    { \"value\": gold, \"count\":  676 },   \n",
    "    { \"value\": platinum, \"count\":  17 },   \n",
    "    { \"value\":  electrum, \"count\":  10 },\n",
    "    { \"value\":  silver, \"count\":  1 },\n",
    "    { \"value\":  copper, \"count\": 1000 } \n",
    "]\n",
    "\n",
    "result = getChange(coins, 854)\n",
    "print(result)"
   ]
  },
  {
   "cell_type": "code",
   "execution_count": null,
   "metadata": {},
   "outputs": [],
   "source": [
    "# Final working function\n",
    "def getCoins(coins, amount, coinIndex = 0):\n",
    "    amount = float(amount)\n",
    "    if amount == 0:\n",
    "        return [] # all done! You did it!\n",
    "    if coinIndex >= len(coins):\n",
    "        return None # don't have enough money / coins\n",
    "    \n",
    "    # start calculations\n",
    "    coinNames = ['', 'Gold', 'Platinum', 'Electrum', 'Silver', 'Copper']\n",
    "    coin = coins[coinIndex] # 1= gold, 2= platinum, ...\n",
    "    coinIndex += 1 \n",
    "    # First, take as may as possible from first listed coin (will start at Index 1 (gold))\n",
    "    canTake = int(min(amount / coin['value'], coin['count']))\n",
    "    \n",
    "    #Reduce the number taken from this coin until success\n",
    "    for count in np.arange(canTake, -1.0, -1):  # take away 1 until count reaches 0\n",
    "        \n",
    "        # Recurse to decide how many to take from next coin\n",
    "        change = getCoins(coins, amount - coin['value'] * count, coinIndex)\n",
    "        if change != None: # Success! We are done!\n",
    "            if count: # Register this number for this coin\n",
    "                print(f'Gold Needed: {amount}')\n",
    "                return change + [{'Coin Name': coinNames[coinIndex], 'Amount': int(count)}]\n",
    "            return change"
   ]
  },
  {
   "cell_type": "code",
   "execution_count": null,
   "metadata": {},
   "outputs": [],
   "source": [
    "coins = [\n",
    "    { \"value\": gold, \"count\":  676 },   \n",
    "    { \"value\": platinum, \"count\":  17 },   \n",
    "    { \"value\":  electrum, \"count\":  10 },\n",
    "    { \"value\":  silver, \"count\":  1 },\n",
    "    { \"value\":  copper, \"count\": 1000 } \n",
    "]\n",
    "\n",
    "result = getCoins(coins, userSpendGold)\n",
    "print(result)"
   ]
  },
  {
   "cell_type": "code",
   "execution_count": null,
   "metadata": {},
   "outputs": [],
   "source": []
  },
  {
   "cell_type": "code",
   "execution_count": null,
   "metadata": {},
   "outputs": [],
   "source": []
  }
 ],
 "metadata": {
  "kernelspec": {
   "display_name": "Python 3",
   "language": "python",
   "name": "python3"
  },
  "language_info": {
   "codemirror_mode": {
    "name": "ipython",
    "version": 3
   },
   "file_extension": ".py",
   "mimetype": "text/x-python",
   "name": "python",
   "nbconvert_exporter": "python",
   "pygments_lexer": "ipython3",
   "version": "3.8.5"
  },
  "toc": {
   "base_numbering": 1,
   "nav_menu": {},
   "number_sections": true,
   "sideBar": true,
   "skip_h1_title": true,
   "title_cell": "Table of Contents",
   "title_sidebar": "Contents",
   "toc_cell": false,
   "toc_position": {},
   "toc_section_display": true,
   "toc_window_display": false
  },
  "varInspector": {
   "cols": {
    "lenName": 16,
    "lenType": 16,
    "lenVar": 40
   },
   "kernels_config": {
    "python": {
     "delete_cmd_postfix": "",
     "delete_cmd_prefix": "del ",
     "library": "var_list.py",
     "varRefreshCmd": "print(var_dic_list())"
    },
    "r": {
     "delete_cmd_postfix": ") ",
     "delete_cmd_prefix": "rm(",
     "library": "var_list.r",
     "varRefreshCmd": "cat(var_dic_list()) "
    }
   },
   "types_to_exclude": [
    "module",
    "function",
    "builtin_function_or_method",
    "instance",
    "_Feature"
   ],
   "window_display": false
  }
 },
 "nbformat": 4,
 "nbformat_minor": 4
}
