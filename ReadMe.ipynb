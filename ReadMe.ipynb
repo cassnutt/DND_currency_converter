{
 "cells": [
  {
   "cell_type": "markdown",
   "metadata": {},
   "source": [
    "# Dungeons & Dragons Currency Converter"
   ]
  },
  {
   "cell_type": "markdown",
   "metadata": {},
   "source": [
    "One of the hobbies I picked up during the COVID-19 pandemic was getting together weekly with some friends over Zoom to play Dungeons and Dragons. It was a game none of us had played before, however some were fans of shows on YouTube and had some idea of what they were doing.\n",
    "\n",
    "For the newbies like myself, using the site [D&D Beyond](https://www.dndbeyond.com/) was extremely helpful in building my character, tracking it's progress, and even rolling the dice! (I now have 3 sets of dice which does make the game more fun!)\n",
    "\n",
    "![DND_beyond_logo](images/DNDBeyond.png)\n",
    "\n",
    "\n",
    "D&D Beyond has many features. One of which can track your currency. It also will calculate all the different coins into one standard coin (gold pieces) so you can get an idea of how much you have to spend."
   ]
  },
  {
   "cell_type": "markdown",
   "metadata": {},
   "source": [
    "![currency](images/currency.png)"
   ]
  },
  {
   "cell_type": "markdown",
   "metadata": {},
   "source": [
    "Recently, my group made some large purchases that required most (if not all) of their currency. They knew they had the money to spend, but had to calculate by hand how much to take from each specific coin."
   ]
  },
  {
   "cell_type": "markdown",
   "metadata": {},
   "source": [
    "*For example:*\n",
    "If you needed to spend 5,000 gold pieces and tried to remove 5,000 from the \"Gold\" section, it would only remove the 2,973 and the other coins would remain unaltered."
   ]
  },
  {
   "cell_type": "markdown",
   "metadata": {},
   "source": [
    "My friend jokingly suggested I build something to do this for us. \n",
    "\n",
    "D&D Beyond had spoiled us. Made us lazy and wanting a computer to do it all. But she was right! I did want the computer to do it for me!"
   ]
  },
  {
   "cell_type": "markdown",
   "metadata": {},
   "source": [
    "*Using the algorithm, the solution to the 5,000 gold coins example would be:*\n",
    "- 2,973 Gold \n",
    "- 202 Platinum \n",
    "- 14 Electrum "
   ]
  },
  {
   "cell_type": "markdown",
   "metadata": {},
   "source": [
    "So here we are. A \"calculator\" that will determine which coins and how many of each need to be spent if you don't have enough gold coins for your purchase.\n",
    "\n",
    "Enjoy!"
   ]
  },
  {
   "cell_type": "markdown",
   "metadata": {},
   "source": [
    "![](https://media.giphy.com/media/fZDvW2dkJG4zjiu70b/giphy-downsized.gif)\n",
    "[GIF Source](https://media.giphy.com/media/fZDvW2dkJG4zjiu70b/source.gif)"
   ]
  }
 ],
 "metadata": {
  "kernelspec": {
   "display_name": "Python 3",
   "language": "python",
   "name": "python3"
  },
  "language_info": {
   "codemirror_mode": {
    "name": "ipython",
    "version": 3
   },
   "file_extension": ".py",
   "mimetype": "text/x-python",
   "name": "python",
   "nbconvert_exporter": "python",
   "pygments_lexer": "ipython3",
   "version": "3.8.5"
  },
  "toc": {
   "base_numbering": 1,
   "nav_menu": {},
   "number_sections": true,
   "sideBar": true,
   "skip_h1_title": true,
   "title_cell": "Table of Contents",
   "title_sidebar": "Contents",
   "toc_cell": false,
   "toc_position": {},
   "toc_section_display": true,
   "toc_window_display": false
  },
  "varInspector": {
   "cols": {
    "lenName": 16,
    "lenType": 16,
    "lenVar": 40
   },
   "kernels_config": {
    "python": {
     "delete_cmd_postfix": "",
     "delete_cmd_prefix": "del ",
     "library": "var_list.py",
     "varRefreshCmd": "print(var_dic_list())"
    },
    "r": {
     "delete_cmd_postfix": ") ",
     "delete_cmd_prefix": "rm(",
     "library": "var_list.r",
     "varRefreshCmd": "cat(var_dic_list()) "
    }
   },
   "types_to_exclude": [
    "module",
    "function",
    "builtin_function_or_method",
    "instance",
    "_Feature"
   ],
   "window_display": false
  }
 },
 "nbformat": 4,
 "nbformat_minor": 4
}
