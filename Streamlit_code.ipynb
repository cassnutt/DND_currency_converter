{
 "cells": [
  {
   "cell_type": "code",
   "execution_count": 5,
   "metadata": {
    "ExecuteTime": {
     "end_time": "2021-09-19T05:50:06.808663Z",
     "start_time": "2021-09-19T05:50:06.800244Z"
    }
   },
   "outputs": [],
   "source": [
    "import streamlit as st\n",
    "import numpy as np\n",
    "import pprint\n",
    "import pandas as pd\n",
    "import time\n",
    "# import plotly.graph_objects as go\n",
    "\n",
    "# empty dataframe hidden until user inputs data\n",
    "df = pd.DataFrame()"
   ]
  },
  {
   "cell_type": "code",
   "execution_count": 7,
   "metadata": {
    "ExecuteTime": {
     "end_time": "2021-07-09T19:32:41.846060Z",
     "start_time": "2021-07-09T19:32:41.834181Z"
    }
   },
   "outputs": [],
   "source": [
    "st.title('Dungeons & Dragons Currency Converter')\n",
    "st.write('')\n",
    "\n",
    "st.image('images/DND.jpeg', use_column_width= True)\n",
    "\n",
    "# create columns to right align photo source text\n",
    "col1, col2, col3 = st.beta_columns([1,1,.5])\n",
    "click_clear = col3.write('[Photo Source](https://www.polygon.com/deals/21294556/dnd-how-to-play-dungeons-dragons-5e-guide-spells-dice-character-sheets-dm)')\n",
    "\n",
    "st.write('')"
   ]
  },
  {
   "cell_type": "code",
   "execution_count": null,
   "metadata": {},
   "outputs": [],
   "source": [
    "# add some space between photo and instructions\n",
    "st.write('')\n",
    "st.subheader('Please input the number of coins you have for each coin type')"
   ]
  },
  {
   "cell_type": "code",
   "execution_count": 9,
   "metadata": {
    "ExecuteTime": {
     "end_time": "2021-09-18T17:26:02.893086Z",
     "start_time": "2021-09-18T17:26:02.886394Z"
    }
   },
   "outputs": [],
   "source": [
    "# Function to convert \n",
    "copper = 1/100\n",
    "silver = 1/10\n",
    "electrum = 1/2\n",
    "gold = 1\n",
    "platinum = 10\n",
    "\n",
    "\n",
    "def getCoins(coins, amount, coinIndex = 0):\n",
    "    \n",
    "    amount = float(amount)\n",
    "    if amount == 0:\n",
    "        return [] # all done! You did it!\n",
    "    if coinIndex >= len(coins):\n",
    "        return None # don't have enough money / coins\n",
    "    \n",
    "    # names of coins to print later\n",
    "    coinNames = ['', 'Gold', 'Copper', 'Silver', 'Electrum', 'Platinum']\n",
    "    \n",
    "    # start calculations\n",
    "    coin = coins[coinIndex] # 1= gold, 2= platinum, ...\n",
    "    coinIndex += 1 \n",
    "    # First, take as may as possible from first listed coin (will start at Index 1 (gold))\n",
    "    canTake = int(min(amount / coin['value'], coin['count']))\n",
    "    \n",
    "    #Reduce the number taken from this coin until success\n",
    "    for count in np.arange(canTake, -1.0, -1):  # take away 1 until count reaches 0\n",
    "        \n",
    "        # Recurse to decide how many to take from next coin\n",
    "        change = getCoins(coins, amount - coin['value'] * count, coinIndex)\n",
    "        if change != None: # Success! We are done!\n",
    "            if count: # Register this number for this coin\n",
    "                return change + [{'Coin Name': coinNames[coinIndex], 'Amount': int(count)}]\n",
    "            return change"
   ]
  },
  {
   "cell_type": "code",
   "execution_count": null,
   "metadata": {},
   "outputs": [],
   "source": [
    "# create placeholders to clear inputs when clicking \"start over\" button\n",
    "placeholder_c = st.empty()\n",
    "placeholder_s = st.empty()\n",
    "placeholder_e = st.empty()\n",
    "placeholder_g = st.empty()\n",
    "placeholder_p = st.empty()"
   ]
  },
  {
   "cell_type": "code",
   "execution_count": 9,
   "metadata": {
    "ExecuteTime": {
     "end_time": "2021-07-09T19:47:56.827329Z",
     "start_time": "2021-07-09T19:47:56.823078Z"
    }
   },
   "outputs": [],
   "source": [
    "# have user input the amount they have for each coin\n",
    "\n",
    "userNumCopper = placeholder_c.number_input('Enter number of Copper: ', min_value= 0)\n",
    "userNumSilver = placeholder_s.number_input('Enter number of Silver: ', min_value= 0)\n",
    "userNumElectrum = placeholder_e.number_input('Enter number of Electrum: ', min_value= 0)\n",
    "userNumGold = placeholder_g.number_input('Enter number of Gold: ', min_value= 0)\n",
    "userNumPlatinum = placeholder_p.number_input('Enter number of Platinum: ', min_value= 0)"
   ]
  },
  {
   "cell_type": "code",
   "execution_count": null,
   "metadata": {},
   "outputs": [],
   "source": [
    "# tell user how much they have in gold pieces\n",
    "\n",
    "totalGold = (userNumCopper * copper) + (userNumSilver * silver) + (userNumElectrum * electrum) + \\\n",
    "    (userNumGold) + (userNumPlatinum * platinum)\n",
    "totalGold = round(totalGold)\n",
    "\n",
    "st.subheader(f'You have {totalGold:,d} gold pieces.')"
   ]
  },
  {
   "cell_type": "code",
   "execution_count": null,
   "metadata": {},
   "outputs": [],
   "source": [
    "st.write('')"
   ]
  },
  {
   "cell_type": "code",
   "execution_count": null,
   "metadata": {},
   "outputs": [],
   "source": [
    "# ask how much they are trying to spend\n",
    "st.header('Gold you would like to spend')\n",
    "placeholder_u = st.empty()\n",
    "userSpendGold = placeholder_u.number_input('How much gold do you want to spend? ', min_value= 0, value= 0)\n"
   ]
  },
  {
   "cell_type": "code",
   "execution_count": 8,
   "metadata": {
    "ExecuteTime": {
     "end_time": "2021-09-18T17:22:45.463783Z",
     "start_time": "2021-09-18T17:22:45.378874Z"
    }
   },
   "outputs": [
    {
     "ename": "NameError",
     "evalue": "name 'userSpendGold' is not defined",
     "output_type": "error",
     "traceback": [
      "\u001b[0;31m---------------------------------------------------------------------------\u001b[0m",
      "\u001b[0;31mNameError\u001b[0m                                 Traceback (most recent call last)",
      "\u001b[0;32m/var/folders/n5/b6g_jj5s4px6g5ftkw28kpbw0000gn/T/ipykernel_65862/2497909367.py\u001b[0m in \u001b[0;36m<module>\u001b[0;34m\u001b[0m\n\u001b[0;32m----> 1\u001b[0;31m \u001b[0;32mif\u001b[0m \u001b[0muserSpendGold\u001b[0m \u001b[0;34m>\u001b[0m \u001b[0mtotalGold\u001b[0m\u001b[0;34m:\u001b[0m\u001b[0;34m\u001b[0m\u001b[0;34m\u001b[0m\u001b[0m\n\u001b[0m\u001b[1;32m      2\u001b[0m     \u001b[0mst\u001b[0m\u001b[0;34m.\u001b[0m\u001b[0mwrite\u001b[0m\u001b[0;34m(\u001b[0m\u001b[0;34m'You do not have enough money. Sorry!'\u001b[0m\u001b[0;34m)\u001b[0m\u001b[0;34m\u001b[0m\u001b[0;34m\u001b[0m\u001b[0m\n\u001b[1;32m      3\u001b[0m     \u001b[0mst\u001b[0m\u001b[0;34m.\u001b[0m\u001b[0mwrite\u001b[0m\u001b[0;34m(\u001b[0m\u001b[0;34mf'Total Gold: {totalGold}'\u001b[0m\u001b[0;34m)\u001b[0m\u001b[0;34m\u001b[0m\u001b[0;34m\u001b[0m\u001b[0m\n\u001b[1;32m      4\u001b[0m     \u001b[0mst\u001b[0m\u001b[0;34m.\u001b[0m\u001b[0mwrite\u001b[0m\u001b[0;34m(\u001b[0m\u001b[0;34mf'Gold you need: {userSpendGold}'\u001b[0m\u001b[0;34m)\u001b[0m\u001b[0;34m\u001b[0m\u001b[0;34m\u001b[0m\u001b[0m\n\u001b[1;32m      5\u001b[0m \u001b[0;34m\u001b[0m\u001b[0m\n",
      "\u001b[0;31mNameError\u001b[0m: name 'userSpendGold' is not defined"
     ]
    }
   ],
   "source": [
    "if userSpendGold > totalGold:\n",
    "    st.write('You do not have enough money. Sorry!')\n",
    "    st.write(f'Total Gold: {totalGold}')\n",
    "    st.write(f'Gold you need: {userSpendGold}')\n",
    "    \n",
    "else:\n",
    "# code below works fast but prioritizes gold and plat first\n",
    "#     coins = [\n",
    "#     { \"value\": gold, \"count\":  userNumGold },   \n",
    "#     { \"value\": platinum, \"count\":  userNumPlatinum },   \n",
    "#     { \"value\":  electrum, \"count\":  userNumElectrum },\n",
    "#     { \"value\":  silver, \"count\":  userNumSilver },\n",
    "#     { \"value\":  copper, \"count\": userNumCopper } \n",
    "#     ]\n",
    "    coins = [\n",
    "    { \"value\": gold, \"count\":  userNumGold },\n",
    "    { \"value\":  copper, \"count\": userNumCopper },\n",
    "    { \"value\":  silver, \"count\":  userNumSilver },\n",
    "    { \"value\":  electrum, \"count\":  userNumElectrum },\n",
    "    { \"value\": platinum, \"count\":  userNumPlatinum },   \n",
    "    ]\n",
    "    \n",
    "    \n",
    "    result = getCoins(coins, userSpendGold)\n",
    "    \n",
    "    df = pd.DataFrame(result)\n",
    "    # don't show index numbers?\n",
    "    df.index = [''] * len(df)\n"
   ]
  },
  {
   "cell_type": "code",
   "execution_count": null,
   "metadata": {},
   "outputs": [],
   "source": [
    "numCoins = userNumCopper + userNumSilver + userNumElectrum + userNumGold + userNumPlatinum\n",
    "if numCoins == 0:\n",
    "    st.write('')\n",
    "elif numCoins >= 5000:\n",
    "    st.write('Looks like your massive heap of coins caught the eyes of a dragon. Please be patient for your total as we distract the dragon.')\n",
    "elif numCoins >= 4000:\n",
    "    st.write('Oh no. A kobold ran off with a bag of your coins. ' \\\n",
    "    'Please be patient while we get it back and determine your total.')\n",
    "elif numCoins >= 3000:\n",
    "    st.write(\"Whoa! Our goblins aren't the brightest, so it may take them a while to count.\")"
   ]
  },
  {
   "cell_type": "code",
   "execution_count": 5,
   "metadata": {
    "ExecuteTime": {
     "end_time": "2021-09-18T17:07:18.103022Z",
     "start_time": "2021-09-18T17:07:18.096510Z"
    }
   },
   "outputs": [
    {
     "ename": "NameError",
     "evalue": "name 'st' is not defined",
     "output_type": "error",
     "traceback": [
      "\u001b[0;31m---------------------------------------------------------------------------\u001b[0m",
      "\u001b[0;31mNameError\u001b[0m                                 Traceback (most recent call last)",
      "\u001b[0;32m/var/folders/n5/b6g_jj5s4px6g5ftkw28kpbw0000gn/T/ipykernel_65862/2790202224.py\u001b[0m in \u001b[0;36m<module>\u001b[0;34m\u001b[0m\n\u001b[1;32m      1\u001b[0m \u001b[0;31m# show table after data is entered\u001b[0m\u001b[0;34m\u001b[0m\u001b[0;34m\u001b[0m\u001b[0;34m\u001b[0m\u001b[0m\n\u001b[0;32m----> 2\u001b[0;31m \u001b[0mtable_placeholder\u001b[0m \u001b[0;34m=\u001b[0m \u001b[0mst\u001b[0m\u001b[0;34m.\u001b[0m\u001b[0mempty\u001b[0m\u001b[0;34m(\u001b[0m\u001b[0;34m)\u001b[0m\u001b[0;34m\u001b[0m\u001b[0;34m\u001b[0m\u001b[0m\n\u001b[0m\u001b[1;32m      3\u001b[0m \u001b[0;34m\u001b[0m\u001b[0m\n\u001b[1;32m      4\u001b[0m \u001b[0;32mif\u001b[0m \u001b[0;32mnot\u001b[0m \u001b[0mdf\u001b[0m\u001b[0;34m.\u001b[0m\u001b[0mempty\u001b[0m\u001b[0;34m:\u001b[0m\u001b[0;34m\u001b[0m\u001b[0;34m\u001b[0m\u001b[0m\n\u001b[1;32m      5\u001b[0m     \u001b[0mtable_placeholder\u001b[0m\u001b[0;34m.\u001b[0m\u001b[0mtable\u001b[0m\u001b[0;34m(\u001b[0m\u001b[0mdf\u001b[0m\u001b[0;34m)\u001b[0m\u001b[0;34m\u001b[0m\u001b[0;34m\u001b[0m\u001b[0m\n",
      "\u001b[0;31mNameError\u001b[0m: name 'st' is not defined"
     ]
    }
   ],
   "source": [
    "# show table after data is entered\n",
    "table_placeholder = st.empty()\n",
    "\n",
    "\n",
    "if not df.empty:\n",
    "    table_placeholder.table(df)\n",
    "    # create plotly table without index\n",
    "#     fig = go.Figure(data= [go.Table(\n",
    "#         header = dict (values = list(df.columns)), \n",
    "#         cells = dict(values= [df['Coin Name'], df['Amount']]))\n",
    "#         ])\n",
    "#     fig.update_layout(margin = dict(l= 20, r= 20, t= 20, b= 0))\n",
    "#     table_placeholder.plotly_chart(fig)\n",
    "    \n",
    "    "
   ]
  },
  {
   "cell_type": "code",
   "execution_count": null,
   "metadata": {},
   "outputs": [],
   "source": [
    "# create dividing line to separate calculations from reset\n",
    "st.write('-------------------------')"
   ]
  },
  {
   "cell_type": "code",
   "execution_count": null,
   "metadata": {},
   "outputs": [],
   "source": [
    "# create columns to right align restart button\n",
    "col1, col2, col3 = st.beta_columns([1,1,.5])\n",
    "click_clear = col3.button('Start Again')\n",
    "\n",
    "# set fields back to 0 when clicking button\n",
    "if click_clear:\n",
    "\n",
    "    userNumCopper = placeholder_c.number_input('Enter number of Copper: ', \n",
    "                                               min_value= 0, value= 0, key= 'redo')\n",
    "    userNumSilver = placeholder_s.number_input('Enter number of Silver: ', \n",
    "                                               min_value= 0, value= 0, key= 'redo1')\n",
    "    userNumElectrum = placeholder_e.number_input('Enter number of Electrum: ', \n",
    "                                                 min_value= 0, value= 0, key= 'redo2')\n",
    "    userNumGold = placeholder_g.number_input('Enter number of Gold: ', \n",
    "                                             min_value= 0, value= 0, key= 'redo3')\n",
    "    userNumPlatinum = placeholder_p.number_input('Enter number of Platinum: ', \n",
    "                                                 min_value= 0, value= 0, key= 'redo4')\n",
    "    userSpendGold = placeholder_u.number_input('How much gold do you want to spend? ', \n",
    "                                               min_value= 0, value= 0, key= 'redo5')\n",
    "\n",
    "\n",
    "    col3.write('The values have been reset')\n",
    "    st.balloons()"
   ]
  },
  {
   "cell_type": "code",
   "execution_count": 10,
   "metadata": {
    "ExecuteTime": {
     "end_time": "2021-09-18T17:48:43.466592Z",
     "start_time": "2021-09-18T17:48:43.463005Z"
    }
   },
   "outputs": [],
   "source": [
    "### Try to get progress bar to work\n",
    "# def get_results(coins, userSpendGold):\n",
    "#     # start progress bar\n",
    "# #     my_bar = st.progress(0)\n",
    "    \n",
    "# #     for percent_complete in range(100):\n",
    "# #         time.sleep(0.1)\n",
    "# #         my_bar.progress(percent_complete + 1)\n",
    "    \n",
    "#     result = getCoins(coins, userSpendGold)\n",
    "#     wait_message = col_3.text('A goblin ran off with your gold. Hold please while we get it back.')\n",
    "# #     df = pd.DataFrame(result)\n",
    "# #     # don't show index numbers?\n",
    "# #     df.index = [''] * len(df)\n",
    "#     return result"
   ]
  },
  {
   "cell_type": "code",
   "execution_count": null,
   "metadata": {},
   "outputs": [],
   "source": [
    "# try to get radio button to work\n",
    "# radio button to select emcumberance or not\n",
    "# encumb = st.radio(\n",
    "#     'With or without encumberance?', \n",
    "#     ('Encumbered - get rid of as many coins and weight as possible', \n",
    "#      \"UnEncumbered - weight doesn't matter and you just want the results fast\"))"
   ]
  },
  {
   "cell_type": "code",
   "execution_count": null,
   "metadata": {},
   "outputs": [],
   "source": [
    "# FUTURE FEATURES\n",
    "# table as plotly table\n",
    "# \"Run\" button so whole page isn't run when user hits 'Enter' to get table\n",
    "# create wait message / progress bar / spinner while table is being calculated / created"
   ]
  },
  {
   "cell_type": "code",
   "execution_count": null,
   "metadata": {},
   "outputs": [],
   "source": [
    "# terminal \n",
    "# jupyter nbconvert   --to script Streamlit_code.ipynb\n",
    "# awk '!/ipython/' Streamlit_code.py >  temp.py && mv temp.py app.py && rm Streamlit_code.py\n",
    "# streamlit run app.py"
   ]
  }
 ],
 "metadata": {
  "kernelspec": {
   "display_name": "Python 3 (ipykernel)",
   "language": "python",
   "name": "python3"
  },
  "language_info": {
   "codemirror_mode": {
    "name": "ipython",
    "version": 3
   },
   "file_extension": ".py",
   "mimetype": "text/x-python",
   "name": "python",
   "nbconvert_exporter": "python",
   "pygments_lexer": "ipython3",
   "version": "3.8.3"
  },
  "toc": {
   "base_numbering": 1,
   "nav_menu": {},
   "number_sections": true,
   "sideBar": true,
   "skip_h1_title": true,
   "title_cell": "Table of Contents",
   "title_sidebar": "Contents",
   "toc_cell": false,
   "toc_position": {},
   "toc_section_display": true,
   "toc_window_display": false
  },
  "varInspector": {
   "cols": {
    "lenName": 16,
    "lenType": 16,
    "lenVar": 40
   },
   "kernels_config": {
    "python": {
     "delete_cmd_postfix": "",
     "delete_cmd_prefix": "del ",
     "library": "var_list.py",
     "varRefreshCmd": "print(var_dic_list())"
    },
    "r": {
     "delete_cmd_postfix": ") ",
     "delete_cmd_prefix": "rm(",
     "library": "var_list.r",
     "varRefreshCmd": "cat(var_dic_list()) "
    }
   },
   "types_to_exclude": [
    "module",
    "function",
    "builtin_function_or_method",
    "instance",
    "_Feature"
   ],
   "window_display": false
  }
 },
 "nbformat": 4,
 "nbformat_minor": 4
}
