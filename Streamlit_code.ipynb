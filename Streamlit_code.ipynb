{
 "cells": [
  {
   "cell_type": "code",
   "execution_count": 6,
   "metadata": {
    "ExecuteTime": {
     "end_time": "2021-07-09T19:13:34.964485Z",
     "start_time": "2021-07-09T19:13:34.961950Z"
    }
   },
   "outputs": [],
   "source": [
    "import streamlit as st\n",
    "import numpy as np\n",
    "import pprint\n",
    "\n",
    "import matplotlib.pyplot as plt"
   ]
  },
  {
   "cell_type": "code",
   "execution_count": 7,
   "metadata": {
    "ExecuteTime": {
     "end_time": "2021-07-09T19:32:41.846060Z",
     "start_time": "2021-07-09T19:32:41.834181Z"
    }
   },
   "outputs": [],
   "source": [
    "st.title('''\n",
    "Dungeons & Dragons Currency Converter\n",
    "''')\n",
    "\n",
    "st.write('''\n",
    "Please type the number of coins you have for each coin type''')"
   ]
  },
  {
   "cell_type": "code",
   "execution_count": null,
   "metadata": {},
   "outputs": [],
   "source": [
    "# Function to convert \n",
    "copper = 1/100\n",
    "silver = 1/10\n",
    "electrum = 1/2\n",
    "gold = 1\n",
    "platinum = 10\n",
    "\n",
    "def getCoins(coins, amount, coinIndex = 0):\n",
    "    amount = float(amount)\n",
    "    if amount == 0:\n",
    "        return [] # all done! You did it!\n",
    "    if coinIndex >= len(coins):\n",
    "        return None # don't have enough money / coins\n",
    "    \n",
    "    # names of coins to print later\n",
    "    coinNames = ['', 'Gold', 'Platinum', 'Electrum', 'Silver', 'Copper']\n",
    "    \n",
    "    # start calculations\n",
    "    coin = coins[coinIndex] # 1= gold, 2= platinum, ...\n",
    "    coinIndex += 1 \n",
    "    # First, take as may as possible from first listed coin (will start at Index 1 (gold))\n",
    "    canTake = int(min(amount / coin['value'], coin['count']))\n",
    "    \n",
    "    #Reduce the number taken from this coin until success\n",
    "    for count in np.arange(canTake, -1.0, -1):  # take away 1 until count reaches 0\n",
    "        \n",
    "        # Recurse to decide how many to take from next coin\n",
    "        change = getCoins(coins, amount - coin['value'] * count, coinIndex)\n",
    "        if change != None: # Success! We are done!\n",
    "            if count: # Register this number for this coin\n",
    "                return change + [{'Coin Name': coinNames[coinIndex], 'Amount': int(count)}]\n",
    "            return change"
   ]
  },
  {
   "cell_type": "code",
   "execution_count": 9,
   "metadata": {
    "ExecuteTime": {
     "end_time": "2021-07-09T19:47:56.827329Z",
     "start_time": "2021-07-09T19:47:56.823078Z"
    }
   },
   "outputs": [],
   "source": [
    "# # have user input the amount they have for each coin\n",
    "while True:\n",
    "    try: \n",
    "        userNumCopper = st.number_input('Enter number of Copper: ', min_value= 0, max_value= 99999999)\n",
    "        userNumSilver = st.number_input('Enter number of Silver: ', min_value= 0, max_value= 99999999)\n",
    "        userNumElectrum = st.number_input('Enter number of Electrum: ', min_value= 0, max_value= 99999999)\n",
    "        userNumGold = st.number_input('Enter number of Gold: ', min_value= 0, max_value= 99999999)\n",
    "        userNumPlatinum = st.number_input('Enter number of Platinum: ', min_value= 0, max_value= 999999)\n",
    "\n",
    "    except ValueError as e:\n",
    "        e == 0\n",
    "        continue\n",
    "    \n",
    "    break"
   ]
  },
  {
   "cell_type": "code",
   "execution_count": null,
   "metadata": {},
   "outputs": [],
   "source": [
    "# tell user how much they have in gold pieces\n",
    "\n",
    "st.title('''Total Coins in Gold Pieces''')\n",
    "totalGold = (userNumCopper * copper) + (userNumSilver * silver) + (userNumElectrum * electrum) + \\\n",
    "    (userNumGold) + (userNumPlatinum * platinum)\n",
    "totalGold = round(totalGold)\n",
    "\n",
    "st.subheader(f'You have {totalGold} gold pieces.')"
   ]
  },
  {
   "cell_type": "code",
   "execution_count": null,
   "metadata": {},
   "outputs": [],
   "source": [
    "# ask how much they are trying to spend\n",
    "userSpendGold = st.number_input('How much gold do you want to spend? ', min_value= 0, max_value= 9999999999)"
   ]
  },
  {
   "cell_type": "code",
   "execution_count": null,
   "metadata": {},
   "outputs": [],
   "source": [
    "if userSpendGold > totalGold:\n",
    "    st.write('You do not have enough money. Sorry!')\n",
    "    st.write(f'Total Gold: {totalGold}')\n",
    "    st.write(f'Gold you need: {userSpendGold}')\n",
    "    \n",
    "else:\n",
    "    coins = [\n",
    "    { \"value\": gold, \"count\":  userNumGold },   \n",
    "    { \"value\": platinum, \"count\":  userNumPlatinum },   \n",
    "    { \"value\":  electrum, \"count\":  userNumElectrum },\n",
    "    { \"value\":  silver, \"count\":  userNumSilver },\n",
    "    { \"value\":  copper, \"count\": userNumCopper } \n",
    "    ]\n",
    "    \n",
    "    \n",
    "    result = getCoins(coins, userSpendGold)\n",
    "    st.write(result)"
   ]
  },
  {
   "cell_type": "code",
   "execution_count": null,
   "metadata": {},
   "outputs": [],
   "source": [
    "df = pd.DataFrame(result)"
   ]
  },
  {
   "cell_type": "code",
   "execution_count": null,
   "metadata": {},
   "outputs": [],
   "source": [
    "hist_values = np.histogram(df)\n",
    "st.bar_chart(hist_values)"
   ]
  },
  {
   "cell_type": "code",
   "execution_count": null,
   "metadata": {},
   "outputs": [],
   "source": [
    "st.dataframe(df)\n",
    "st.write('')\n"
   ]
  },
  {
   "cell_type": "code",
   "execution_count": null,
   "metadata": {},
   "outputs": [],
   "source": [
    "st.table(df)"
   ]
  },
  {
   "cell_type": "code",
   "execution_count": null,
   "metadata": {},
   "outputs": [],
   "source": [
    "# jupyter nbconvert   --to script Streamlit_code.ipynb\n",
    "# awk '!/ipython/' Streamlit_code.py >  temp.py && mv temp.py app.py && rm Streamlit_code.py\n",
    "# streamlit run app.py"
   ]
  }
 ],
 "metadata": {
  "kernelspec": {
   "display_name": "Python 3",
   "language": "python",
   "name": "python3"
  },
  "language_info": {
   "codemirror_mode": {
    "name": "ipython",
    "version": 3
   },
   "file_extension": ".py",
   "mimetype": "text/x-python",
   "name": "python",
   "nbconvert_exporter": "python",
   "pygments_lexer": "ipython3",
   "version": "3.8.5"
  },
  "toc": {
   "base_numbering": 1,
   "nav_menu": {},
   "number_sections": true,
   "sideBar": true,
   "skip_h1_title": true,
   "title_cell": "Table of Contents",
   "title_sidebar": "Contents",
   "toc_cell": false,
   "toc_position": {},
   "toc_section_display": true,
   "toc_window_display": false
  },
  "varInspector": {
   "cols": {
    "lenName": 16,
    "lenType": 16,
    "lenVar": 40
   },
   "kernels_config": {
    "python": {
     "delete_cmd_postfix": "",
     "delete_cmd_prefix": "del ",
     "library": "var_list.py",
     "varRefreshCmd": "print(var_dic_list())"
    },
    "r": {
     "delete_cmd_postfix": ") ",
     "delete_cmd_prefix": "rm(",
     "library": "var_list.r",
     "varRefreshCmd": "cat(var_dic_list()) "
    }
   },
   "types_to_exclude": [
    "module",
    "function",
    "builtin_function_or_method",
    "instance",
    "_Feature"
   ],
   "window_display": false
  }
 },
 "nbformat": 4,
 "nbformat_minor": 4
}
